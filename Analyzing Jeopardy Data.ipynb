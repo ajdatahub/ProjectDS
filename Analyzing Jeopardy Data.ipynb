{
 "cells": [
  {
   "cell_type": "markdown",
   "metadata": {
    "collapsed": true
   },
   "source": [
    "# Analyzing Jeopardy Data\n",
    "\n",
    "Jeopardy is a popular TV show in the US where participants answer questions to win money. It's been running for a few decades, and is a major force in popular culture.\n",
    "\n",
    "In this project, we will work with a dataset of Jeopardy questions to figure out some patterns in the questions that could help you win. The dataset can be downloaded [here](https://www.reddit.com/r/datasets/comments/1uyd0t/200000_jeopardy_questions_in_a_json_file/?st=jmwnphdw&sh=16abc86f).\n",
    "\n",
    "Each row in the dataset represents a single question on a single episode of Jeopardy. Here are explanations of each column:\n",
    "\n",
    "- Show Number -- the Jeopardy episode number of the show this question was in.\n",
    "- Air Date -- the date the episode aired.\n",
    "- Round -- the round of Jeopardy that the question was asked in. Jeopardy has several rounds as each episode progresses.\n",
    "- Category -- the category of the question.\n",
    "- Value -- the number of dollars answering the question correctly is worth.\n",
    "- Question -- the text of the question.\n",
    "- Answer -- the text of the answer.\n",
    "\n"
   ]
  },
  {
   "cell_type": "code",
   "execution_count": 22,
   "metadata": {
    "collapsed": false,
    "scrolled": true
   },
   "outputs": [
    {
     "data": {
      "text/html": [
       "<div>\n",
       "<style scoped>\n",
       "    .dataframe tbody tr th:only-of-type {\n",
       "        vertical-align: middle;\n",
       "    }\n",
       "\n",
       "    .dataframe tbody tr th {\n",
       "        vertical-align: top;\n",
       "    }\n",
       "\n",
       "    .dataframe thead th {\n",
       "        text-align: right;\n",
       "    }\n",
       "</style>\n",
       "<table border=\"1\" class=\"dataframe\">\n",
       "  <thead>\n",
       "    <tr style=\"text-align: right;\">\n",
       "      <th></th>\n",
       "      <th>Show Number</th>\n",
       "      <th>Air Date</th>\n",
       "      <th>Round</th>\n",
       "      <th>Category</th>\n",
       "      <th>Value</th>\n",
       "      <th>Question</th>\n",
       "      <th>Answer</th>\n",
       "    </tr>\n",
       "  </thead>\n",
       "  <tbody>\n",
       "    <tr>\n",
       "      <th>0</th>\n",
       "      <td>4680</td>\n",
       "      <td>2004-12-31</td>\n",
       "      <td>Jeopardy!</td>\n",
       "      <td>HISTORY</td>\n",
       "      <td>$200</td>\n",
       "      <td>For the last 8 years of his life, Galileo was ...</td>\n",
       "      <td>Copernicus</td>\n",
       "    </tr>\n",
       "    <tr>\n",
       "      <th>1</th>\n",
       "      <td>4680</td>\n",
       "      <td>2004-12-31</td>\n",
       "      <td>Jeopardy!</td>\n",
       "      <td>ESPN's TOP 10 ALL-TIME ATHLETES</td>\n",
       "      <td>$200</td>\n",
       "      <td>No. 2: 1912 Olympian; football star at Carlisl...</td>\n",
       "      <td>Jim Thorpe</td>\n",
       "    </tr>\n",
       "    <tr>\n",
       "      <th>2</th>\n",
       "      <td>4680</td>\n",
       "      <td>2004-12-31</td>\n",
       "      <td>Jeopardy!</td>\n",
       "      <td>EVERYBODY TALKS ABOUT IT...</td>\n",
       "      <td>$200</td>\n",
       "      <td>The city of Yuma in this state has a record av...</td>\n",
       "      <td>Arizona</td>\n",
       "    </tr>\n",
       "    <tr>\n",
       "      <th>3</th>\n",
       "      <td>4680</td>\n",
       "      <td>2004-12-31</td>\n",
       "      <td>Jeopardy!</td>\n",
       "      <td>THE COMPANY LINE</td>\n",
       "      <td>$200</td>\n",
       "      <td>In 1963, live on \"The Art Linkletter Show\", th...</td>\n",
       "      <td>McDonald's</td>\n",
       "    </tr>\n",
       "    <tr>\n",
       "      <th>4</th>\n",
       "      <td>4680</td>\n",
       "      <td>2004-12-31</td>\n",
       "      <td>Jeopardy!</td>\n",
       "      <td>EPITAPHS &amp; TRIBUTES</td>\n",
       "      <td>$200</td>\n",
       "      <td>Signer of the Dec. of Indep., framer of the Co...</td>\n",
       "      <td>John Adams</td>\n",
       "    </tr>\n",
       "  </tbody>\n",
       "</table>\n",
       "</div>"
      ],
      "text/plain": [
       "   Show Number    Air Date      Round                         Category  Value  \\\n",
       "0         4680  2004-12-31  Jeopardy!                          HISTORY   $200   \n",
       "1         4680  2004-12-31  Jeopardy!  ESPN's TOP 10 ALL-TIME ATHLETES   $200   \n",
       "2         4680  2004-12-31  Jeopardy!      EVERYBODY TALKS ABOUT IT...   $200   \n",
       "3         4680  2004-12-31  Jeopardy!                 THE COMPANY LINE   $200   \n",
       "4         4680  2004-12-31  Jeopardy!              EPITAPHS & TRIBUTES   $200   \n",
       "\n",
       "                                            Question      Answer  \n",
       "0  For the last 8 years of his life, Galileo was ...  Copernicus  \n",
       "1  No. 2: 1912 Olympian; football star at Carlisl...  Jim Thorpe  \n",
       "2  The city of Yuma in this state has a record av...     Arizona  \n",
       "3  In 1963, live on \"The Art Linkletter Show\", th...  McDonald's  \n",
       "4  Signer of the Dec. of Indep., framer of the Co...  John Adams  "
      ]
     },
     "execution_count": 22,
     "metadata": {},
     "output_type": "execute_result"
    }
   ],
   "source": [
    "import pandas as pd\n",
    "import re\n",
    "from matplotlib import pyplot as plt\n",
    "from scipy.stats import chisquare\n",
    "import numpy as np\n",
    "\n",
    "# Reading dataset into a Dataframe\n",
    "\n",
    "jeopardy = pd.read_csv('jeopardy.csv')\n",
    "jeopardy.head()"
   ]
  },
  {
   "cell_type": "code",
   "execution_count": 23,
   "metadata": {
    "collapsed": false
   },
   "outputs": [
    {
     "data": {
      "text/plain": [
       "Index(['Show Number', 'Air Date', 'Round', 'Category', 'Value', 'Question',\n",
       "       'Answer'],\n",
       "      dtype='object')"
      ]
     },
     "execution_count": 23,
     "metadata": {},
     "output_type": "execute_result"
    }
   ],
   "source": [
    "# Removing spaces from column names\n",
    "\n",
    "jeopardy.columns = jeopardy.columns.str.strip()\n",
    "jeopardy.columns"
   ]
  },
  {
   "cell_type": "code",
   "execution_count": 24,
   "metadata": {
    "collapsed": false
   },
   "outputs": [
    {
     "data": {
      "text/plain": [
       "Show Number     int64\n",
       "Air Date       object\n",
       "Round          object\n",
       "Category       object\n",
       "Value          object\n",
       "Question       object\n",
       "Answer         object\n",
       "dtype: object"
      ]
     },
     "execution_count": 24,
     "metadata": {},
     "output_type": "execute_result"
    }
   ],
   "source": [
    "jeopardy.dtypes"
   ]
  },
  {
   "cell_type": "code",
   "execution_count": 25,
   "metadata": {
    "collapsed": false
   },
   "outputs": [],
   "source": [
    "# Normalizing Question and Answer column data. Converting words to lower case and removing punctuation.\n",
    "\n",
    "def normalize(data):\n",
    "    data = data.lower()\n",
    "    \n",
    "    # Remove punctuation \n",
    "    data= re.sub(r'[^\\w\\s]','',data)\n",
    "    return data\n",
    "\n",
    "\n",
    "jeopardy['clean_question'] = jeopardy['Question'].apply(normalize)\n",
    "jeopardy['clean_answer'] = jeopardy['Answer'].apply(normalize)"
   ]
  },
  {
   "cell_type": "code",
   "execution_count": 26,
   "metadata": {
    "collapsed": false
   },
   "outputs": [
    {
     "data": {
      "text/html": [
       "<div>\n",
       "<style scoped>\n",
       "    .dataframe tbody tr th:only-of-type {\n",
       "        vertical-align: middle;\n",
       "    }\n",
       "\n",
       "    .dataframe tbody tr th {\n",
       "        vertical-align: top;\n",
       "    }\n",
       "\n",
       "    .dataframe thead th {\n",
       "        text-align: right;\n",
       "    }\n",
       "</style>\n",
       "<table border=\"1\" class=\"dataframe\">\n",
       "  <thead>\n",
       "    <tr style=\"text-align: right;\">\n",
       "      <th></th>\n",
       "      <th>Show Number</th>\n",
       "      <th>Air Date</th>\n",
       "      <th>Round</th>\n",
       "      <th>Category</th>\n",
       "      <th>Value</th>\n",
       "      <th>Question</th>\n",
       "      <th>Answer</th>\n",
       "      <th>clean_question</th>\n",
       "      <th>clean_answer</th>\n",
       "      <th>clean_value</th>\n",
       "    </tr>\n",
       "  </thead>\n",
       "  <tbody>\n",
       "    <tr>\n",
       "      <th>0</th>\n",
       "      <td>4680</td>\n",
       "      <td>2004-12-31</td>\n",
       "      <td>Jeopardy!</td>\n",
       "      <td>HISTORY</td>\n",
       "      <td>$200</td>\n",
       "      <td>For the last 8 years of his life, Galileo was ...</td>\n",
       "      <td>Copernicus</td>\n",
       "      <td>for the last 8 years of his life galileo was u...</td>\n",
       "      <td>copernicus</td>\n",
       "      <td>200</td>\n",
       "    </tr>\n",
       "    <tr>\n",
       "      <th>1</th>\n",
       "      <td>4680</td>\n",
       "      <td>2004-12-31</td>\n",
       "      <td>Jeopardy!</td>\n",
       "      <td>ESPN's TOP 10 ALL-TIME ATHLETES</td>\n",
       "      <td>$200</td>\n",
       "      <td>No. 2: 1912 Olympian; football star at Carlisl...</td>\n",
       "      <td>Jim Thorpe</td>\n",
       "      <td>no 2 1912 olympian football star at carlisle i...</td>\n",
       "      <td>jim thorpe</td>\n",
       "      <td>200</td>\n",
       "    </tr>\n",
       "    <tr>\n",
       "      <th>2</th>\n",
       "      <td>4680</td>\n",
       "      <td>2004-12-31</td>\n",
       "      <td>Jeopardy!</td>\n",
       "      <td>EVERYBODY TALKS ABOUT IT...</td>\n",
       "      <td>$200</td>\n",
       "      <td>The city of Yuma in this state has a record av...</td>\n",
       "      <td>Arizona</td>\n",
       "      <td>the city of yuma in this state has a record av...</td>\n",
       "      <td>arizona</td>\n",
       "      <td>200</td>\n",
       "    </tr>\n",
       "    <tr>\n",
       "      <th>3</th>\n",
       "      <td>4680</td>\n",
       "      <td>2004-12-31</td>\n",
       "      <td>Jeopardy!</td>\n",
       "      <td>THE COMPANY LINE</td>\n",
       "      <td>$200</td>\n",
       "      <td>In 1963, live on \"The Art Linkletter Show\", th...</td>\n",
       "      <td>McDonald's</td>\n",
       "      <td>in 1963 live on the art linkletter show this c...</td>\n",
       "      <td>mcdonalds</td>\n",
       "      <td>200</td>\n",
       "    </tr>\n",
       "    <tr>\n",
       "      <th>4</th>\n",
       "      <td>4680</td>\n",
       "      <td>2004-12-31</td>\n",
       "      <td>Jeopardy!</td>\n",
       "      <td>EPITAPHS &amp; TRIBUTES</td>\n",
       "      <td>$200</td>\n",
       "      <td>Signer of the Dec. of Indep., framer of the Co...</td>\n",
       "      <td>John Adams</td>\n",
       "      <td>signer of the dec of indep framer of the const...</td>\n",
       "      <td>john adams</td>\n",
       "      <td>200</td>\n",
       "    </tr>\n",
       "  </tbody>\n",
       "</table>\n",
       "</div>"
      ],
      "text/plain": [
       "   Show Number   Air Date      Round                         Category Value  \\\n",
       "0         4680 2004-12-31  Jeopardy!                          HISTORY  $200   \n",
       "1         4680 2004-12-31  Jeopardy!  ESPN's TOP 10 ALL-TIME ATHLETES  $200   \n",
       "2         4680 2004-12-31  Jeopardy!      EVERYBODY TALKS ABOUT IT...  $200   \n",
       "3         4680 2004-12-31  Jeopardy!                 THE COMPANY LINE  $200   \n",
       "4         4680 2004-12-31  Jeopardy!              EPITAPHS & TRIBUTES  $200   \n",
       "\n",
       "                                            Question      Answer  \\\n",
       "0  For the last 8 years of his life, Galileo was ...  Copernicus   \n",
       "1  No. 2: 1912 Olympian; football star at Carlisl...  Jim Thorpe   \n",
       "2  The city of Yuma in this state has a record av...     Arizona   \n",
       "3  In 1963, live on \"The Art Linkletter Show\", th...  McDonald's   \n",
       "4  Signer of the Dec. of Indep., framer of the Co...  John Adams   \n",
       "\n",
       "                                      clean_question clean_answer  clean_value  \n",
       "0  for the last 8 years of his life galileo was u...   copernicus          200  \n",
       "1  no 2 1912 olympian football star at carlisle i...   jim thorpe          200  \n",
       "2  the city of yuma in this state has a record av...      arizona          200  \n",
       "3  in 1963 live on the art linkletter show this c...    mcdonalds          200  \n",
       "4  signer of the dec of indep framer of the const...   john adams          200  "
      ]
     },
     "execution_count": 26,
     "metadata": {},
     "output_type": "execute_result"
    }
   ],
   "source": [
    "# Normalizing Air Date and Value column data.\n",
    "\n",
    "def normalize_dollar(data):\n",
    "    # Remove punctuation \n",
    "    data= re.sub(r'[^\\w\\s]','',data)\n",
    "    try:\n",
    "        return int(data)\n",
    "    except ValueError:\n",
    "        return 0\n",
    "\n",
    "\n",
    "\n",
    "jeopardy['clean_value'] = jeopardy['Value'].apply(normalize_dollar)\n",
    " \n",
    "# Converting Air Date to datetime\n",
    "\n",
    "jeopardy['Air Date'] = pd.to_datetime(jeopardy['Air Date'])\n",
    "    \n",
    "jeopardy.head()\n"
   ]
  },
  {
   "cell_type": "markdown",
   "metadata": {
    "collapsed": true
   },
   "source": [
    "### Answering Questions\n",
    "\n",
    "With the dataset in hand, a contestant can figure out wheather to study past questions, study general knowledge, or not study at all. \n",
    "Existing questions in the dataset can help us find some meaningful insights about the contest. \n",
    "\n",
    "We will analyse the data to find out how often the answer is deducible from the question. We can so this by seeing how many times words in the answer also occur in the question."
   ]
  },
  {
   "cell_type": "code",
   "execution_count": 27,
   "metadata": {
    "collapsed": false
   },
   "outputs": [
    {
     "data": {
      "text/plain": [
       "0.04377071958826046"
      ]
     },
     "execution_count": 27,
     "metadata": {},
     "output_type": "execute_result"
    }
   ],
   "source": [
    "# Analyzing how often the answer is deducible from the question.\n",
    "\n",
    "# Function to count the word match between question and answer\n",
    "def word_count(row):\n",
    "    stop_words = ['the','in','a','an','is','on','then','than','why','what','when','where']\n",
    "    \n",
    "    # split questions and answer\n",
    "    split_question = row['clean_question'].split(\" \")\n",
    "    \n",
    "    # Removing stop words from question\n",
    "    for word in split_question:\n",
    "        if word in stop_words:\n",
    "            split_question.remove(word)\n",
    "            \n",
    "    split_answer = row['clean_answer'].split(\" \")\n",
    "    \n",
    "    # Removing strop words from answer\n",
    "    for word in split_answer:\n",
    "        if word in stop_words:\n",
    "            split_answer.remove(word)\n",
    "    \n",
    "    match_count = 0\n",
    "    if len(split_answer)==0:\n",
    "        return 0 # prevents a division by zero error later\n",
    "    \n",
    "    for each_answer in split_answer:\n",
    "        if each_answer in split_question:\n",
    "            match_count+= 1\n",
    "    \n",
    "    return match_count/ len(split_answer)\n",
    "\n",
    "# Count how many times terms in a question occur in a question\n",
    "jeopardy['answer_in_question'] = jeopardy.apply(word_count,axis=1)\n",
    "\n",
    "\n",
    "mean_word_match = jeopardy['answer_in_question'].mean()\n",
    "mean_word_match"
   ]
  },
  {
   "cell_type": "markdown",
   "metadata": {},
   "source": [
    "The dataset shows that words in the answer occur only in 4% of the times in the question. This shows that the answer might not be deducible from the question. This helps us to come up with a strategy to study for the contest. \n",
    "\n",
    "We will have to know the answer to the question. One cannot get away without studying for the participate and win Jeopardy! "
   ]
  },
  {
   "cell_type": "markdown",
   "metadata": {},
   "source": [
    "### Finding Frequency of Repeated Questions\n",
    "\n",
    "We want to investigate how often new questions are repeats of older ones. Similarity of words in different questions help us analyze this scenario. \n",
    "\n",
    "We will look at words greater than 6 characters that enables us to filter out words like the and than, which are commonly used, but don't tell you a lot about a question."
   ]
  },
  {
   "cell_type": "code",
   "execution_count": 28,
   "metadata": {
    "collapsed": false
   },
   "outputs": [
    {
     "data": {
      "text/plain": [
       "0.6894006357823182"
      ]
     },
     "execution_count": 28,
     "metadata": {},
     "output_type": "execute_result"
    }
   ],
   "source": [
    "# Sorting dataframe by Air Date\n",
    "\n",
    "jeopardy= jeopardy.sort_values(by='Air Date')\n",
    "\n",
    "terms_used = set() # Empty set to contain the words from the questions\n",
    "question_overlap = []\n",
    "\n",
    "for index,row in jeopardy.iterrows():\n",
    "    split_question = row['clean_question'].split(' ')\n",
    "    \n",
    "    # Removing words less than 6 character long\n",
    "    split_question = [each for each in split_question if len(each) > 5]\n",
    "    \n",
    "    match_count = 0\n",
    "    \n",
    "    for word in split_question:\n",
    "        if word in terms_used:\n",
    "            match_count+= 1\n",
    "        # Adding words to the set- terms_used\n",
    "        terms_used.add(word)\n",
    "        \n",
    "    # Appending match count to the dataset    \n",
    "    if len(split_question)>0:\n",
    "        match_count = match_count/ len(split_question)\n",
    "        \n",
    "    question_overlap.append(match_count)\n",
    "\n",
    "jeopardy['question_overlap'] = question_overlap\n",
    "\n",
    "mean_question_overlap = jeopardy['question_overlap'].mean()\n",
    "mean_question_overlap\n",
    "            \n",
    "        "
   ]
  },
  {
   "cell_type": "markdown",
   "metadata": {},
   "source": [
    "Looks like around 70% of the times the questions have overlapping terms. Although the entrire question is not being analysed here, but this shows some signs that going through the questions which have a\n",
    "lready been asked in the show can help us perform better in Jeopardy! "
   ]
  },
  {
   "cell_type": "markdown",
   "metadata": {},
   "source": [
    "### Analyzing the Occurance of Terms Corresponding to the Value of  Questions"
   ]
  },
  {
   "cell_type": "code",
   "execution_count": 29,
   "metadata": {
    "collapsed": true
   },
   "outputs": [],
   "source": [
    "# Function to categorize values into high and low value\n",
    "\n",
    "def question_value(row):\n",
    "    if row['clean_value']>800:\n",
    "        value = 1\n",
    "    else:\n",
    "        value = 0\n",
    "    return value\n",
    "\n",
    "jeopardy['high_value'] = jeopardy.apply(question_value, axis=1)\n"
   ]
  },
  {
   "cell_type": "code",
   "execution_count": 30,
   "metadata": {
    "collapsed": false
   },
   "outputs": [
    {
     "name": "stdout",
     "output_type": "stream",
     "text": [
      "['cassie', 'wagons', 'murphy', 'legion', 'whitebellied']\n",
      "[(1, 0), (0, 1), (5, 1), (0, 1), (0, 1)]\n"
     ]
    }
   ],
   "source": [
    "# Function to count the number of questions with high and low counts\n",
    "\n",
    "def high_low_counts(word):\n",
    "    low_count = 0\n",
    "    high_count = 0\n",
    "    \n",
    "    # Counting the number of questions with high and low counts for the given term\n",
    "    for index,row in jeopardy.iterrows():\n",
    "        split_question = row['clean_question'].split(\" \")\n",
    "        if word in split_question:\n",
    "            if row['high_value']==1:\n",
    "                high_count+= 1\n",
    "            else:\n",
    "                low_count+= 1\n",
    "    return high_count,low_count\n",
    "\n",
    "observed_expected = []\n",
    "comparison_terms = list(terms_used)[:5] # Selecting a few words for analysis\n",
    "\n",
    "\n",
    "for each_term in comparison_terms:\n",
    "    observed_expected.append(high_low_counts(each_term))\n",
    "\n",
    "print(comparison_terms)\n",
    "print(observed_expected)\n",
    "\n"
   ]
  },
  {
   "cell_type": "markdown",
   "metadata": {
    "collapsed": true
   },
   "source": [
    "### Chi-Squared Test for the Selected Terms\n",
    "\n",
    "Now that we've found the observed counts for a few terms, we can compute the expected counts and the chi-squared value"
   ]
  },
  {
   "cell_type": "code",
   "execution_count": 31,
   "metadata": {
    "collapsed": false
   },
   "outputs": [
    {
     "name": "stdout",
     "output_type": "stream",
     "text": [
      "[Power_divergenceResult(statistic=2.487792117195675, pvalue=0.11473257634454047), Power_divergenceResult(statistic=0.401962846126884, pvalue=0.5260772985705469), Power_divergenceResult(statistic=8.76612762933646, pvalue=0.003068762885281689), Power_divergenceResult(statistic=0.401962846126884, pvalue=0.5260772985705469), Power_divergenceResult(statistic=0.401962846126884, pvalue=0.5260772985705469)]\n"
     ]
    }
   ],
   "source": [
    "\n",
    "\n",
    "high_value_count = jeopardy[jeopardy['high_value']==1].shape[0]\n",
    "low_value_count = jeopardy[jeopardy['high_value']==0].shape[0]\n",
    "chi_squared = []\n",
    "\n",
    "for each in observed_expected:\n",
    "    total = sum(each)\n",
    "    total_prop = total/jeopardy.shape[0]\n",
    "    \n",
    "    exp_high = total_prop * high_value_count\n",
    "    exp_low = total_prop * low_value_count\n",
    "    \n",
    "    # Calculating Chi-Squared value and P-value\n",
    "    observed = np.array([each[0], each[1]])\n",
    "    expected = np.array([exp_high, exp_low])\n",
    "    \n",
    "    chi_squared.append(chisquare(observed,expected))\n",
    "\n",
    "    \n",
    "print(chi_squared)"
   ]
  },
  {
   "cell_type": "markdown",
   "metadata": {
    "collapsed": true
   },
   "source": [
    "- The terms which we have selected for analysis didn't have a significant difference between high value and low value rows. \n",
    "- Terms with higher frequency should be selected to carry out chi-squaerd tests to analyze if the  difference between high value and low value rows is significant. "
   ]
  },
  {
   "cell_type": "code",
   "execution_count": null,
   "metadata": {
    "collapsed": true
   },
   "outputs": [],
   "source": []
  }
 ],
 "metadata": {
  "kernelspec": {
   "display_name": "Python 3",
   "language": "python",
   "name": "python3"
  },
  "language_info": {
   "codemirror_mode": {
    "name": "ipython",
    "version": 3
   },
   "file_extension": ".py",
   "mimetype": "text/x-python",
   "name": "python",
   "nbconvert_exporter": "python",
   "pygments_lexer": "ipython3",
   "version": "3.4.3"
  }
 },
 "nbformat": 4,
 "nbformat_minor": 0
}
