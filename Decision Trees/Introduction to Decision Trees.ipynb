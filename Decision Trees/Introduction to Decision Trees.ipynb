{
 "cells": [
  {
   "cell_type": "markdown",
   "metadata": {},
   "source": [
    "# Introduction to Decision Trees\n",
    "\n",
    "Decision trees are a powerful and popular machine learning technique. The basic concept is very similar to trees that we commonly use to aid decision-making.\n",
    "\n",
    "Machine Learning techniques enables us to automatically construct a decision tree that tells us what outcomes we should predict in certain situations.\n",
    "\n",
    "The decision tree algorithm is a supervised learning algorithm -- we first construct the tree with historical data, and then use it to predict an outcome. \n",
    "- One of the major advantages of decision trees is that they can pick up nonlinear interactions between variables in the data that linear regression can't.\n",
    "\n",
    "The following work is a walk through of the building blocks of making a decision tree automatically.\n",
    "\n",
    "We'll be looking at individual income in the United States. \n",
    "The data is from the 1994 census, and contains information on an individual's \n",
    "- marital status\n",
    "- age \n",
    "- type of work, and more. \n",
    "\n",
    "The target column, or what we want to predict, is whether individuals make less than or equal to 50k a year, or more than 50k a year. The dataset can be accessed from the [University of California, Irvine's website](http://archive.ics.uci.edu/ml/datasets/Adult)."
   ]
  },
  {
   "cell_type": "code",
   "execution_count": 95,
   "metadata": {},
   "outputs": [
    {
     "name": "stdout",
     "output_type": "stream",
     "text": [
      "   age          workclass  fnlwgt   education  education_num  \\\n",
      "0   39          State-gov   77516   Bachelors             13   \n",
      "1   50   Self-emp-not-inc   83311   Bachelors             13   \n",
      "2   38            Private  215646     HS-grad              9   \n",
      "3   53            Private  234721        11th              7   \n",
      "4   28            Private  338409   Bachelors             13   \n",
      "\n",
      "        marital_status          occupation    relationship    race      sex  \\\n",
      "0        Never-married        Adm-clerical   Not-in-family   White     Male   \n",
      "1   Married-civ-spouse     Exec-managerial         Husband   White     Male   \n",
      "2             Divorced   Handlers-cleaners   Not-in-family   White     Male   \n",
      "3   Married-civ-spouse   Handlers-cleaners         Husband   Black     Male   \n",
      "4   Married-civ-spouse      Prof-specialty            Wife   Black   Female   \n",
      "\n",
      "   capital_gain  capital_loss  hours_per_week  native_country high_income  \n",
      "0          2174             0              40   United-States       <=50K  \n",
      "1             0             0              13   United-States       <=50K  \n",
      "2             0             0              40   United-States       <=50K  \n",
      "3             0             0              40   United-States       <=50K  \n",
      "4             0             0              40            Cuba       <=50K  \n"
     ]
    }
   ],
   "source": [
    "import pandas as pd\n",
    "\n",
    "# First column is age of the person. Set index_col to False to avoid pandas thinking that the first column is row indexes\n",
    "income = pd.read_csv(\"income.csv\", index_col=False)\n",
    "print(income.head(5))"
   ]
  },
  {
   "cell_type": "markdown",
   "metadata": {},
   "source": [
    "We have categorical variables such as workclass that have string values. \n",
    "- Multiple individuals can share the same string value. The types of work include State-gov, Self-emp-not-inc, Private, and so on. Each of these strings is a label for a category. \n",
    "- Another example of a column of categories is sex, where the options are Male and Female.\n",
    "\n",
    "Before we get started with decision trees, we need to convert the categorical variables in our data set to numeric variables."
   ]
  },
  {
   "cell_type": "code",
   "execution_count": 96,
   "metadata": {},
   "outputs": [
    {
     "data": {
      "text/plain": [
       "0    7\n",
       "1    6\n",
       "2    4\n",
       "3    4\n",
       "4    4\n",
       "Name: workclass, dtype: int8"
      ]
     },
     "execution_count": 96,
     "metadata": {},
     "output_type": "execute_result"
    }
   ],
   "source": [
    "workclass_col = pd.Categorical(income['workclass'])\n",
    "income['workclass'] = workclass_col.codes\n",
    "income['workclass'].head()"
   ]
  },
  {
   "cell_type": "markdown",
   "metadata": {},
   "source": [
    "Similarly, we will convert all the other categorical variables to numeric variables."
   ]
  },
  {
   "cell_type": "code",
   "execution_count": 97,
   "metadata": {},
   "outputs": [],
   "source": [
    "def convert_categorical(column,data):\n",
    "#     for each in columns:\n",
    "    column_cat = pd.Categorical(data[column])\n",
    "    codes = column_cat.codes\n",
    "    return codes\n",
    "    \n",
    "income['education'] = convert_categorical('education',income)\n",
    "income['marital_status'] = convert_categorical('marital_status',income)\n",
    "income['occupation'] = convert_categorical('occupation',income)\n",
    "income['relationship'] = convert_categorical('relationship',income)\n",
    "income['race'] = convert_categorical('race',income)\n",
    "income['sex'] = convert_categorical('sex',income)\n",
    "income['native_country'] = convert_categorical('native_country',income)\n",
    "income['high_income'] = convert_categorical('high_income',income)\n"
   ]
  },
  {
   "cell_type": "code",
   "execution_count": 98,
   "metadata": {},
   "outputs": [
    {
     "data": {
      "text/html": [
       "<div>\n",
       "<style scoped>\n",
       "    .dataframe tbody tr th:only-of-type {\n",
       "        vertical-align: middle;\n",
       "    }\n",
       "\n",
       "    .dataframe tbody tr th {\n",
       "        vertical-align: top;\n",
       "    }\n",
       "\n",
       "    .dataframe thead th {\n",
       "        text-align: right;\n",
       "    }\n",
       "</style>\n",
       "<table border=\"1\" class=\"dataframe\">\n",
       "  <thead>\n",
       "    <tr style=\"text-align: right;\">\n",
       "      <th></th>\n",
       "      <th>age</th>\n",
       "      <th>workclass</th>\n",
       "      <th>fnlwgt</th>\n",
       "      <th>education</th>\n",
       "      <th>education_num</th>\n",
       "      <th>marital_status</th>\n",
       "      <th>occupation</th>\n",
       "      <th>relationship</th>\n",
       "      <th>race</th>\n",
       "      <th>sex</th>\n",
       "      <th>capital_gain</th>\n",
       "      <th>capital_loss</th>\n",
       "      <th>hours_per_week</th>\n",
       "      <th>native_country</th>\n",
       "      <th>high_income</th>\n",
       "    </tr>\n",
       "  </thead>\n",
       "  <tbody>\n",
       "    <tr>\n",
       "      <th>0</th>\n",
       "      <td>39</td>\n",
       "      <td>7</td>\n",
       "      <td>77516</td>\n",
       "      <td>9</td>\n",
       "      <td>13</td>\n",
       "      <td>4</td>\n",
       "      <td>1</td>\n",
       "      <td>1</td>\n",
       "      <td>4</td>\n",
       "      <td>1</td>\n",
       "      <td>2174</td>\n",
       "      <td>0</td>\n",
       "      <td>40</td>\n",
       "      <td>39</td>\n",
       "      <td>0</td>\n",
       "    </tr>\n",
       "    <tr>\n",
       "      <th>1</th>\n",
       "      <td>50</td>\n",
       "      <td>6</td>\n",
       "      <td>83311</td>\n",
       "      <td>9</td>\n",
       "      <td>13</td>\n",
       "      <td>2</td>\n",
       "      <td>4</td>\n",
       "      <td>0</td>\n",
       "      <td>4</td>\n",
       "      <td>1</td>\n",
       "      <td>0</td>\n",
       "      <td>0</td>\n",
       "      <td>13</td>\n",
       "      <td>39</td>\n",
       "      <td>0</td>\n",
       "    </tr>\n",
       "    <tr>\n",
       "      <th>2</th>\n",
       "      <td>38</td>\n",
       "      <td>4</td>\n",
       "      <td>215646</td>\n",
       "      <td>11</td>\n",
       "      <td>9</td>\n",
       "      <td>0</td>\n",
       "      <td>6</td>\n",
       "      <td>1</td>\n",
       "      <td>4</td>\n",
       "      <td>1</td>\n",
       "      <td>0</td>\n",
       "      <td>0</td>\n",
       "      <td>40</td>\n",
       "      <td>39</td>\n",
       "      <td>0</td>\n",
       "    </tr>\n",
       "    <tr>\n",
       "      <th>3</th>\n",
       "      <td>53</td>\n",
       "      <td>4</td>\n",
       "      <td>234721</td>\n",
       "      <td>1</td>\n",
       "      <td>7</td>\n",
       "      <td>2</td>\n",
       "      <td>6</td>\n",
       "      <td>0</td>\n",
       "      <td>2</td>\n",
       "      <td>1</td>\n",
       "      <td>0</td>\n",
       "      <td>0</td>\n",
       "      <td>40</td>\n",
       "      <td>39</td>\n",
       "      <td>0</td>\n",
       "    </tr>\n",
       "    <tr>\n",
       "      <th>4</th>\n",
       "      <td>28</td>\n",
       "      <td>4</td>\n",
       "      <td>338409</td>\n",
       "      <td>9</td>\n",
       "      <td>13</td>\n",
       "      <td>2</td>\n",
       "      <td>10</td>\n",
       "      <td>5</td>\n",
       "      <td>2</td>\n",
       "      <td>0</td>\n",
       "      <td>0</td>\n",
       "      <td>0</td>\n",
       "      <td>40</td>\n",
       "      <td>5</td>\n",
       "      <td>0</td>\n",
       "    </tr>\n",
       "  </tbody>\n",
       "</table>\n",
       "</div>"
      ],
      "text/plain": [
       "   age  workclass  fnlwgt  education  education_num  marital_status  \\\n",
       "0   39          7   77516          9             13               4   \n",
       "1   50          6   83311          9             13               2   \n",
       "2   38          4  215646         11              9               0   \n",
       "3   53          4  234721          1              7               2   \n",
       "4   28          4  338409          9             13               2   \n",
       "\n",
       "   occupation  relationship  race  sex  capital_gain  capital_loss  \\\n",
       "0           1             1     4    1          2174             0   \n",
       "1           4             0     4    1             0             0   \n",
       "2           6             1     4    1             0             0   \n",
       "3           6             0     2    1             0             0   \n",
       "4          10             5     2    0             0             0   \n",
       "\n",
       "   hours_per_week  native_country  high_income  \n",
       "0              40              39            0  \n",
       "1              13              39            0  \n",
       "2              40              39            0  \n",
       "3              40              39            0  \n",
       "4              40               5            0  "
      ]
     },
     "execution_count": 98,
     "metadata": {},
     "output_type": "execute_result"
    }
   ],
   "source": [
    "income.head()"
   ]
  },
  {
   "cell_type": "markdown",
   "metadata": {},
   "source": [
    "Now think of rows of data flowing through a decision tree. We can split the data set into two portions based on whether the individual works in the private sector or not."
   ]
  },
  {
   "cell_type": "code",
   "execution_count": 99,
   "metadata": {},
   "outputs": [
    {
     "name": "stdout",
     "output_type": "stream",
     "text": [
      "22696\n",
      "9865\n"
     ]
    }
   ],
   "source": [
    "# Split income into two parts based on the value of the workclass column\n",
    "private_incomes = income[income['workclass']==4]\n",
    "public_incomes = income[~(income['workclass']==4)]\n",
    "print(private_incomes.shape[0])\n",
    "print(public_incomes.shape[0])"
   ]
  },
  {
   "cell_type": "markdown",
   "metadata": {},
   "source": [
    "A decision tree is made up of a series of nodes and branches. A node is where we split the data based on a variable, and a branch is one side of the split. \n",
    "\n",
    "The nodes at the bottom of the tree, where we decide to stop splitting, are called terminal nodes, or leaves.\n",
    "- When we are splitting the data, we are not doing it randomly. We have a motive in mind- an objective. Out goal is to make predictions on future data. \n",
    "    - In order to do this, all rows in each leaf must have only one value for our target column.\n",
    "    \n",
    "Each leaf can only have rows with the same values for our target column. If this isn't the case, we won't be able to make effective predictions.\n",
    "\n",
    "After constructing a tree using the data, we'll want to make predictions. In order to do this, we'll take a new row and feed it through our decision tree."
   ]
  },
  {
   "cell_type": "markdown",
   "metadata": {},
   "source": [
    "### Entropy\n",
    "Now that we have a high-level view of how decision trees work, let's explore the details and learn how to perform the splits.\n",
    "\n",
    "Because we're trying to reach the leaves having only 1s or only 0s in high_income, each split will need to get us closer to that goal.\n",
    "\n",
    "When we split, we'll try to separate as many 0s from 1s in the high_income column as we can. In order to do this, we need a metric for how \"together\" the different values in the high_income column are.\n",
    "\n",
    "We will use a metric called entropy for this purpose. \n",
    "- __Entropy refers to disorder.__ \n",
    "- The more \"mixed together\" 1s and 0s are, the higher the entropy. A data set consisting entirely of 1s in the high_income column would have low entropy.\n",
    "\n",
    "Entropy comes from information theory. \n",
    "- Information theory is based on probability and statistics, and deals with the transmission, processing, utilization, and extraction of information. A key concept in information theory is the notion of a bit of information. \n",
    "- One bit of information is one unit of information.\n",
    "\n",
    "We can represent a bit of information as a binary number because it either has the value 1 or 0. Suppose there's an equal probability of a coin toss being heads (1) or not heads (0). If I tell you that it will be heads, I've given you one bit of information.\n",
    "\n",
    "The formula for entropy looks like this:\n",
    "−∑P(xi)logP(xi)\n"
   ]
  },
  {
   "cell_type": "code",
   "execution_count": 100,
   "metadata": {},
   "outputs": [
    {
     "name": "stdout",
     "output_type": "stream",
     "text": [
      "0.7963839552022132\n"
     ]
    }
   ],
   "source": [
    "# Computing the entropy of the high_income column in the income dataframe\n",
    "\n",
    "import math\n",
    "\n",
    "high_income_0 = len(income[income['high_income']==0])\n",
    "high_income_1 = len(income[income['high_income']==1])\n",
    "high_income_len = len(income['high_income'])\n",
    "income_entropy= -((high_income_0/high_income_len) * math.log(high_income_0/high_income_len, 2) + high_income_1/high_income_len * math.log(high_income_1/high_income_len, 2))\n",
    "\n",
    "print(income_entropy)"
   ]
  },
  {
   "cell_type": "markdown",
   "metadata": {},
   "source": [
    "We need a way to go from calculating the entropy to finding the variables to split on.  We can do this using information gain, which tells us which split will reduce entropy the most.\n",
    "\n",
    "Here's the formula for information gain:\n",
    "\n",
    "IG(T,A)=Entropy(T)−∑v∈A(|Tv|/|T|)*Entropy(Tv)\n",
    "\n",
    "To compute it, we first calculate the entropy for T. \n",
    "- Then, for each unique value v in the variable A, we compute the number of rows in which A takes on the value v , and divide it by the total number of rows. \n",
    "- Next, we multiply the results by the entropy of the rows where A is v. \n",
    "- We add all of these subset entropies together, then subtract from the overall entropy to get information gain.\n",
    "\n",
    "__We're finding the entropy of each set post-split, weighting it by the number of items in each split, then subtracting from the current entropy. If the result is positive, we've lowered entropy with our split. The higher the result is, the more we've lowered entropy.__\n",
    "\n",
    "- One strategy for constructing trees is to create as many branches at each node as there are unique values for the variable we're splitting on. This approach usually involves more complexity than it's worth and doesn't improve prediction accuracy.\n",
    "\n",
    "- To make calculations simpler, we won't do it for each unique value. We'll find the median for the variable we're splitting on instead. Any rows where the value of the variable is below the median will go to the left branch, and the rest of the rows will go to the right branch. To compute information gain, we'll only have to compute entropies for two subsets.\n",
    "\n"
   ]
  },
  {
   "cell_type": "code",
   "execution_count": 101,
   "metadata": {},
   "outputs": [
    {
     "data": {
      "text/plain": [
       "0.047028661304691965"
      ]
     },
     "execution_count": 101,
     "metadata": {},
     "output_type": "execute_result"
    }
   ],
   "source": [
    "# Compute the information gain for splitting on the age column of income\n",
    "\n",
    "import numpy\n",
    "\n",
    "def calc_entropy(column):\n",
    "    \"\"\"\n",
    "    Calculate entropy given a pandas series, list, or numpy array.\n",
    "    \"\"\"\n",
    "    # Compute the counts of each unique value in the column\n",
    "    counts = numpy.bincount(column)\n",
    "    # Divide by the total column length to get a probability\n",
    "    probabilities = counts / len(column)\n",
    "    \n",
    "    # Initialize the entropy to 0\n",
    "    entropy = 0\n",
    "    # Loop through the probabilities, and add each one to the total entropy\n",
    "    for prob in probabilities:\n",
    "        if prob > 0:\n",
    "            entropy += prob * math.log(prob, 2)\n",
    "    \n",
    "    return -entropy\n",
    "\n",
    "median_age = income['age'].median()\n",
    "\n",
    "left_split = income[income['age']<=median_age]\n",
    "right_split = income[income['age']>median_age]\n",
    "\n",
    "left_splt_len =len(left_split['age'])\n",
    "right_split_len = len(right_split['age'])\n",
    "income_len = len(income['age'])\n",
    "\n",
    "\n",
    "income_entropy = calc_entropy(income['high_income'])\n",
    "age_information_gain = income_entropy -(((left_splt_len/income_len)*calc_entropy(left_split['high_income']))\n",
    "                                        + ((right_split_len/income_len)*calc_entropy(right_split['high_income'])))\n",
    "\n",
    "age_information_gain"
   ]
  },
  {
   "cell_type": "markdown",
   "metadata": {},
   "source": [
    "Now that we know how to compute information gain, we can determine the best variable to split a node on. When we start our tree, we want to make an initial split. We'll find the variable to split on by calculating which split would have the highest information gain.\n",
    "\n",
    "Create a list called information_gains.\n",
    "- It should contain, in order, the information gain from splitting on these columns: age, workclass, education_num, marital_status, occupation, relationship, race, sex, hours_per_week, native_country.\n",
    "\n",
    "- Find the highest value in the information_gains list, and assign the corresponding column name to highest_gain."
   ]
  },
  {
   "cell_type": "code",
   "execution_count": 102,
   "metadata": {},
   "outputs": [],
   "source": [
    "def calc_information_gain(data,split_column,target_column):\n",
    "    \n",
    "    original_entropy = calc_entropy(data[target_column])\n",
    "    \n",
    "    column = data[split_column]\n",
    "    median = column.median()\n",
    "    \n",
    "    left_split = data[column <= median]\n",
    "    right_split = data[column > median]\n",
    "    \n",
    "    substract = 0\n",
    "    for each in [left_split, right_split]:\n",
    "        prob = each.shape[0]/data.shape[0]\n",
    "        substract+= prob * calc_entropy(each[target_column])\n",
    "    \n",
    "    return original_entropy - substract"
   ]
  },
  {
   "cell_type": "code",
   "execution_count": 103,
   "metadata": {},
   "outputs": [
    {
     "data": {
      "text/plain": [
       "'marital_status'"
      ]
     },
     "execution_count": 103,
     "metadata": {},
     "output_type": "execute_result"
    }
   ],
   "source": [
    "columns = [\"age\", \"workclass\", \"education_num\", \"marital_status\", \"occupation\", \"relationship\", \"race\", \"sex\", \"hours_per_week\", \"native_country\"]\n",
    "\n",
    "information_gains = [calc_information_gain(income, each, \"high_income\") for each in columns]\n",
    "\n",
    "highest_gain = columns[information_gains.index(max(information_gains))]\n",
    "highest_gain"
   ]
  },
  {
   "cell_type": "markdown",
   "metadata": {},
   "source": [
    "So, 'marital_status' gives us the best split of data to form a tree to find wheather a person has a high income. \n",
    "\n",
    "Now we know how to make a single split. To construct an entire tree, we'll need to continue creating splits until the leaves only have a single class.\n",
    "\n",
    "So far, we've been following the ID3 algorithm to construct decision trees. There are other algorithms like CART that use different measures for the split criterion.\n",
    "Now, we'll figure out how to recursively construct an entire tree using the ID3 algorithm.\n",
    "\n",
    "- We will use the concept of recursion to create a ID3 algorithm. \n",
    "- In general, recursion is the process of splitting a large problem into smaller chunks. Recursive functions will call themselves, then combine the results into a final output.\n",
    "- Building a tree is a perfect use case for recursive algorithms. At each node, we'll call a recursive function that will split the data into two branches. Each branch will lead to a node, and the function will call itself to build the tree out."
   ]
  },
  {
   "cell_type": "markdown",
   "metadata": {},
   "source": [
    "### Determining the Column to Split On\n",
    "We already have functions to calculate entropy and information gain.\n",
    "\n",
    "Now we need a function that returns the name of the column we should use to split a data set. The function should take the name of the data set, the target column, and a list of columns we might want to split on as input."
   ]
  },
  {
   "cell_type": "code",
   "execution_count": 104,
   "metadata": {},
   "outputs": [
    {
     "data": {
      "text/plain": [
       "'marital_status'"
      ]
     },
     "execution_count": 104,
     "metadata": {},
     "output_type": "execute_result"
    }
   ],
   "source": [
    "def find_best_column(data, target_column, columns):\n",
    "    \n",
    "    # Calcualate information gain to find the column that splits the data best\n",
    "    information_gains = [calc_information_gain(data, each, target_column) for each in columns]\n",
    "    \n",
    "    highest_gain = columns[information_gains.index(max(information_gains))]\n",
    "    return highest_gain\n",
    "    \n",
    "    \n",
    "    \n",
    "# A list of columns to potentially split income with\n",
    "columns = [\"age\", \"workclass\", \"education_num\", \n",
    "           \"marital_status\", \"occupation\", \"relationship\", \n",
    "           \"race\", \"sex\", \"hours_per_week\", \"native_country\"]\n",
    "target_column = 'high_income'\n",
    "\n",
    "income_split = find_best_column(income, target_column, columns)\n",
    "income_split"
   ]
  },
  {
   "cell_type": "markdown",
   "metadata": {},
   "source": [
    "Looks like marital_status is the best column to split our data on.\n",
    "\n",
    "\n",
    "### Creating the Recursive Fucntion to Implement the id3 Algorithm"
   ]
  },
  {
   "cell_type": "code",
   "execution_count": 105,
   "metadata": {},
   "outputs": [],
   "source": [
    "# Lists to store our labels for nodes\n",
    "label_1s = []\n",
    "label_0s = []\n",
    "\n",
    "def id3(data, target_column, columns):\n",
    "    unique_targets = pd.unique(data[target_column])\n",
    "    \n",
    "    if len(unique_targets) == 1:\n",
    "        if unique_targets == 1:\n",
    "            label_1s.append(1)\n",
    "            return label_1s\n",
    "        elif unique_targets == 0:\n",
    "            label_0s.append(0)\n",
    "            return label_0s\n",
    "    \n",
    "    best_column = find_best_column(data, target_column, columns)\n",
    "    \n",
    "    # Finding median value of the best column evaluated in the previous step.\n",
    "    column_median = data[best_column].median()\n",
    "    \n",
    "    # Split the data based on the basis of the column_median\n",
    "    left_split = data[data[best_column] <= column_median]\n",
    "    right_split = data[data[best_column] > column_median]\n",
    "    \n",
    "    # Recursively applying the ID3 alogrithm\n",
    "    for split in (left_split, right_split):\n",
    "        id3(split, target_column, columns)\n",
    "        "
   ]
  },
  {
   "cell_type": "code",
   "execution_count": 106,
   "metadata": {},
   "outputs": [],
   "source": [
    "# Create the data set that we used in the example on the last screen\n",
    "data = pd.DataFrame([\n",
    "    [0,20,0],\n",
    "    [0,60,2],\n",
    "    [0,40,1],\n",
    "    [1,25,1],\n",
    "    [1,35,2],\n",
    "    [1,55,1]\n",
    "    ])\n",
    "# Assign column names to the data\n",
    "data.columns = [\"high_income\", \"age\", \"marital_status\"]\n",
    "\n",
    "# Call the function on our data to set the counters properly\n",
    "id3(data, \"high_income\", [\"age\", \"marital_status\"])"
   ]
  },
  {
   "cell_type": "code",
   "execution_count": 107,
   "metadata": {},
   "outputs": [
    {
     "name": "stdout",
     "output_type": "stream",
     "text": [
      "[1, 1, 1]\n",
      "[0, 0, 0]\n"
     ]
    }
   ],
   "source": [
    "print(label_1s)\n",
    "print(label_0s) "
   ]
  },
  {
   "cell_type": "markdown",
   "metadata": {},
   "source": [
    "Now we can store the entire tree, rather than the leaf labels only.  \n",
    "- We'll use nested dictionaries to store the entire tree. \n",
    "- We can represent the root node with a dictionary, and branches with the keys left and right. \n",
    "- We'll store the column we're splitting on as the key column, and the median value as the key median. \n",
    "- Finally, we can store the label for a leaf as the key label. We'll also number each node as we go along using the number key."
   ]
  },
  {
   "cell_type": "code",
   "execution_count": 108,
   "metadata": {},
   "outputs": [],
   "source": [
    "# Create a dictionary to hold the tree\n",
    "tree = {}\n",
    "\n",
    "# Create an empty list to store the node values\n",
    "node = []\n",
    "\n",
    "def id3(data, target_column, columns, tree):\n",
    "    unique_targets = pd.unique(data[target_column])\n",
    "    \n",
    "    node.append(len(node)+1)\n",
    "    tree['number'] = node[-1]\n",
    "    \n",
    "    if len(unique_targets) == 1:\n",
    "        if unique_targets == 1:\n",
    "            tree['label'] = 1\n",
    "            return tree\n",
    "        elif unique_targets == 0:\n",
    "            tree['label'] = 0\n",
    "            return tree\n",
    "            \n",
    "    best_column = find_best_column(data, target_column, columns)\n",
    "    column_median = data[best_column].median()\n",
    "    \n",
    "    tree['column'] = best_column\n",
    "    tree['median'] = column_median\n",
    "    \n",
    "    left_split = data[data[best_column] <= column_median]\n",
    "    right_split = data[data[best_column] > column_median]\n",
    "    split_data = [['left', left_split],['right', right_split]]\n",
    "    \n",
    "    for name, split in split_data:\n",
    "        # Creating an empty tree like we did initially. This empty tree will be passed recursively to the id3 function\n",
    "        tree[name] = {}\n",
    "        id3(split, target_column, columns, tree[name])"
   ]
  },
  {
   "cell_type": "code",
   "execution_count": 109,
   "metadata": {},
   "outputs": [],
   "source": [
    "# Call the function on our data to set the counters properly\n",
    "id3(data, \"high_income\", [\"age\", \"marital_status\"], tree)"
   ]
  },
  {
   "cell_type": "code",
   "execution_count": 110,
   "metadata": {},
   "outputs": [
    {
     "data": {
      "text/plain": [
       "{'column': 'age',\n",
       " 'left': {'column': 'age',\n",
       "  'left': {'column': 'age',\n",
       "   'left': {'label': 0, 'number': 4},\n",
       "   'median': 22.5,\n",
       "   'number': 3,\n",
       "   'right': {'label': 1, 'number': 5}},\n",
       "  'median': 25.0,\n",
       "  'number': 2,\n",
       "  'right': {'label': 1, 'number': 6}},\n",
       " 'median': 37.5,\n",
       " 'number': 1,\n",
       " 'right': {'column': 'age',\n",
       "  'left': {'column': 'age',\n",
       "   'left': {'label': 0, 'number': 9},\n",
       "   'median': 47.5,\n",
       "   'number': 8,\n",
       "   'right': {'label': 1, 'number': 10}},\n",
       "  'median': 55.0,\n",
       "  'number': 7,\n",
       "  'right': {'label': 0, 'number': 11}}}"
      ]
     },
     "execution_count": 110,
     "metadata": {},
     "output_type": "execute_result"
    }
   ],
   "source": [
    "tree"
   ]
  },
  {
   "cell_type": "markdown",
   "metadata": {},
   "source": [
    "The tree dictionary shows all of the relevant information, but it doesn't look very nice. We can fix its appearance by printing it out in a nicer format.\n",
    "\n",
    "To do this, we'll need to recursively iterate through our tree dictionary. Any dictionary that has a label key is a leaf. Whenever we find one, we'll print out the label. Otherwise, we'll loop through the tree's left and right keys and recursively call the same function.\n",
    "\n",
    "We also need to keep track of a depth variable. This variable will allow us to use indentation to indicate the order of the nodes. Before we print anything out, we'll prefix it with the number of spaces corresponding to the depth variable."
   ]
  },
  {
   "cell_type": "code",
   "execution_count": 111,
   "metadata": {},
   "outputs": [],
   "source": [
    "# Funtion to be called at a node where label is found\n",
    "def print_node(string, depth):\n",
    "    indent = \"    \"* depth\n",
    "    print('{0}{1}'.format(indent, string))\n",
    "\n",
    "# Funciton to print each node\n",
    "def print_tree(tree, depth):\n",
    "    \n",
    "    # Check if the node has a label\n",
    "    if 'label' in tree:\n",
    "        print_node(\"Leaf: Label {0}\".format(tree['label']),depth)\n",
    "        return\n",
    "    \n",
    "    print_node(\"{0} > {1}\".format(tree['column'],tree['median']),depth)\n",
    "    \n",
    "    tree_branches = [tree['left'],tree['right']]\n",
    "    \n",
    "    for branch in tree_branches:\n",
    "        depth+=1\n",
    "        print_tree(branch, depth)\n",
    "        "
   ]
  },
  {
   "cell_type": "code",
   "execution_count": 112,
   "metadata": {},
   "outputs": [
    {
     "name": "stdout",
     "output_type": "stream",
     "text": [
      "age > 37.5\n",
      "    age > 25.0\n",
      "        age > 22.5\n",
      "            Leaf: Label 0\n",
      "                Leaf: Label 1\n",
      "            Leaf: Label 1\n",
      "        age > 55.0\n",
      "            age > 47.5\n",
      "                Leaf: Label 0\n",
      "                    Leaf: Label 1\n",
      "                Leaf: Label 0\n"
     ]
    }
   ],
   "source": [
    "print_tree(tree, 0)"
   ]
  },
  {
   "cell_type": "markdown",
   "metadata": {},
   "source": [
    "Each node prints the criteria on which it was split. \n",
    "So, how to predict a new value by looking at this tree?\n",
    "\n",
    "Let's say we want to predict the following row-\n",
    "age : 50 and marital_status : 1\n",
    "\n",
    "- First, we'd split on age > 37.5 and go to the right. Then, we'd split on age > 55.0 and go to the left. Then, we'd split on age > 47.5 and go to the right. We'd end up predicting a 1 for high_income.\n",
    "\n",
    "Making predictions with such a small tree is fairly straightforward, but with the increase in data size, it becomes difficult to eyeball predictions. We'd want an automated way to do this instead."
   ]
  },
  {
   "cell_type": "markdown",
   "metadata": {},
   "source": [
    "### Making Predictions Using the Tree\n",
    "\n",
    "Following is a function that makes predictions automatically. All we need to do is follow the split points we've already defined with a new row."
   ]
  },
  {
   "cell_type": "code",
   "execution_count": 124,
   "metadata": {},
   "outputs": [],
   "source": [
    "def predictions(tree, row):\n",
    "    \n",
    "    if 'label' in tree:\n",
    "        return tree['label']\n",
    "    \n",
    "    column = tree[\"column\"]\n",
    "    median = tree[\"median\"]\n",
    "    \n",
    "    if row[column] <= median:\n",
    "        return predictions(tree['left'],row)\n",
    "        \n",
    "    elif row[column] > median:\n",
    "        return predictions(tree['right'],row)\n",
    "     "
   ]
  },
  {
   "cell_type": "code",
   "execution_count": 125,
   "metadata": {},
   "outputs": [
    {
     "name": "stdout",
     "output_type": "stream",
     "text": [
      "0\n"
     ]
    }
   ],
   "source": [
    "print(predictions(tree, data.iloc[0]))"
   ]
  },
  {
   "cell_type": "code",
   "execution_count": 126,
   "metadata": {},
   "outputs": [],
   "source": [
    "# Make predicitons for multiple rows \n",
    "new_data = pd.DataFrame([\n",
    "    [40,0],\n",
    "    [20,2],\n",
    "    [80,1],\n",
    "    [15,1],\n",
    "    [27,2],\n",
    "    [38,1]\n",
    "    ])\n",
    "# Assign column names to the data\n",
    "new_data.columns = [\"age\", \"marital_status\"]\n",
    "\n",
    "def batch_predict(tree, df):\n",
    "    return df.apply(lambda row : predictions(tree,row) ,axis = 1)\n",
    "\n",
    "\n",
    "predict = batch_predict(tree, new_data)"
   ]
  },
  {
   "cell_type": "code",
   "execution_count": 127,
   "metadata": {},
   "outputs": [
    {
     "name": "stdout",
     "output_type": "stream",
     "text": [
      "0    0\n",
      "1    0\n",
      "2    0\n",
      "3    0\n",
      "4    1\n",
      "5    0\n",
      "dtype: int64\n"
     ]
    }
   ],
   "source": [
    "print(predict)"
   ]
  },
  {
   "cell_type": "code",
   "execution_count": null,
   "metadata": {},
   "outputs": [],
   "source": []
  }
 ],
 "metadata": {
  "kernelspec": {
   "display_name": "Python 3",
   "language": "python",
   "name": "python3"
  },
  "language_info": {
   "codemirror_mode": {
    "name": "ipython",
    "version": 3
   },
   "file_extension": ".py",
   "mimetype": "text/x-python",
   "name": "python",
   "nbconvert_exporter": "python",
   "pygments_lexer": "ipython3",
   "version": "3.6.4"
  }
 },
 "nbformat": 4,
 "nbformat_minor": 2
}
