{
 "cells": [
  {
   "cell_type": "markdown",
   "metadata": {
    "collapsed": true
   },
   "source": [
    "# Data Analysis To Find The Best Markets To Advertise An E-Learning Product\n",
    "\n",
    "The project is to perform data analysis for an e-learning comapny that offers courses on programming. They offer courses on web and mobile development, data science, game development, etc. The company wants to promote the product and like to invest some money in advertising. \n",
    "\n",
    "The goal in this project is to find out the two best markets to advertise our product in."
   ]
  },
  {
   "cell_type": "markdown",
   "metadata": {},
   "source": [
    "For performing data analysis to achieve our goal, we can collect the data by organizing surveys in different markets to find out better market choices for madvertising. This is failry a costly option as conducting surveys can be expensive and also time consuming. \n",
    "\n",
    "Another way is to try and look for existing data which might be relevant for our purpose. This way, we can do our data analysis and answer a few questions with the data which is already available. \n",
    "\n",
    "For our project, we can use the data from [freeCodeCamp's 2017 New Coder Survey](https://medium.freecodecamp.org/we-asked-20-000-people-who-they-are-and-how-theyre-learning-to-code-fff5d668969). The data can be found [here](https://github.com/freeCodeCamp/2017-new-coder-survey). The link to the survey can be found [here](https://medium.freecodecamp.org/take-the-2017-new-coder-survey-and-help-us-build-a-massive-public-dataset-8c808cbee7eb).\n",
    "\n",
    "The data set has over 130 columns which provides information about over 18K respondents, such as -\n",
    "- demographics\n",
    "- employment status\n",
    "- job interests\n",
    "- income\n",
    "- resources used to learn coding \n",
    "The data set has an extensive list of columsns which descibes a lot more than the above mentioned characteristics. \n"
   ]
  },
  {
   "cell_type": "code",
   "execution_count": 97,
   "metadata": {
    "collapsed": false
   },
   "outputs": [
    {
     "name": "stdout",
     "output_type": "stream",
     "text": [
      "(18175, 136)\n"
     ]
    },
    {
     "name": "stderr",
     "output_type": "stream",
     "text": [
      "/dataquest/system/env/python3/lib/python3.4/site-packages/IPython/core/interactiveshell.py:2723: DtypeWarning: Columns (17,62) have mixed types. Specify dtype option on import or set low_memory=False.\n",
      "  interactivity=interactivity, compiler=compiler, result=result)\n"
     ]
    },
    {
     "data": {
      "text/html": [
       "<div>\n",
       "<style scoped>\n",
       "    .dataframe tbody tr th:only-of-type {\n",
       "        vertical-align: middle;\n",
       "    }\n",
       "\n",
       "    .dataframe tbody tr th {\n",
       "        vertical-align: top;\n",
       "    }\n",
       "\n",
       "    .dataframe thead th {\n",
       "        text-align: right;\n",
       "    }\n",
       "</style>\n",
       "<table border=\"1\" class=\"dataframe\">\n",
       "  <thead>\n",
       "    <tr style=\"text-align: right;\">\n",
       "      <th></th>\n",
       "      <th>Age</th>\n",
       "      <th>AttendedBootcamp</th>\n",
       "      <th>BootcampFinish</th>\n",
       "      <th>BootcampLoanYesNo</th>\n",
       "      <th>BootcampName</th>\n",
       "      <th>BootcampRecommend</th>\n",
       "      <th>ChildrenNumber</th>\n",
       "      <th>CityPopulation</th>\n",
       "      <th>CodeEventConferences</th>\n",
       "      <th>CodeEventDjangoGirls</th>\n",
       "      <th>...</th>\n",
       "      <th>YouTubeFCC</th>\n",
       "      <th>YouTubeFunFunFunction</th>\n",
       "      <th>YouTubeGoogleDev</th>\n",
       "      <th>YouTubeLearnCode</th>\n",
       "      <th>YouTubeLevelUpTuts</th>\n",
       "      <th>YouTubeMIT</th>\n",
       "      <th>YouTubeMozillaHacks</th>\n",
       "      <th>YouTubeOther</th>\n",
       "      <th>YouTubeSimplilearn</th>\n",
       "      <th>YouTubeTheNewBoston</th>\n",
       "    </tr>\n",
       "  </thead>\n",
       "  <tbody>\n",
       "    <tr>\n",
       "      <th>0</th>\n",
       "      <td>27.0</td>\n",
       "      <td>0.0</td>\n",
       "      <td>NaN</td>\n",
       "      <td>NaN</td>\n",
       "      <td>NaN</td>\n",
       "      <td>NaN</td>\n",
       "      <td>NaN</td>\n",
       "      <td>more than 1 million</td>\n",
       "      <td>NaN</td>\n",
       "      <td>NaN</td>\n",
       "      <td>...</td>\n",
       "      <td>NaN</td>\n",
       "      <td>NaN</td>\n",
       "      <td>NaN</td>\n",
       "      <td>NaN</td>\n",
       "      <td>NaN</td>\n",
       "      <td>NaN</td>\n",
       "      <td>NaN</td>\n",
       "      <td>NaN</td>\n",
       "      <td>NaN</td>\n",
       "      <td>NaN</td>\n",
       "    </tr>\n",
       "    <tr>\n",
       "      <th>1</th>\n",
       "      <td>34.0</td>\n",
       "      <td>0.0</td>\n",
       "      <td>NaN</td>\n",
       "      <td>NaN</td>\n",
       "      <td>NaN</td>\n",
       "      <td>NaN</td>\n",
       "      <td>NaN</td>\n",
       "      <td>less than 100,000</td>\n",
       "      <td>NaN</td>\n",
       "      <td>NaN</td>\n",
       "      <td>...</td>\n",
       "      <td>1.0</td>\n",
       "      <td>NaN</td>\n",
       "      <td>NaN</td>\n",
       "      <td>NaN</td>\n",
       "      <td>NaN</td>\n",
       "      <td>NaN</td>\n",
       "      <td>NaN</td>\n",
       "      <td>NaN</td>\n",
       "      <td>NaN</td>\n",
       "      <td>NaN</td>\n",
       "    </tr>\n",
       "    <tr>\n",
       "      <th>2</th>\n",
       "      <td>21.0</td>\n",
       "      <td>0.0</td>\n",
       "      <td>NaN</td>\n",
       "      <td>NaN</td>\n",
       "      <td>NaN</td>\n",
       "      <td>NaN</td>\n",
       "      <td>NaN</td>\n",
       "      <td>more than 1 million</td>\n",
       "      <td>NaN</td>\n",
       "      <td>NaN</td>\n",
       "      <td>...</td>\n",
       "      <td>NaN</td>\n",
       "      <td>NaN</td>\n",
       "      <td>NaN</td>\n",
       "      <td>1.0</td>\n",
       "      <td>1.0</td>\n",
       "      <td>NaN</td>\n",
       "      <td>NaN</td>\n",
       "      <td>NaN</td>\n",
       "      <td>NaN</td>\n",
       "      <td>NaN</td>\n",
       "    </tr>\n",
       "    <tr>\n",
       "      <th>3</th>\n",
       "      <td>26.0</td>\n",
       "      <td>0.0</td>\n",
       "      <td>NaN</td>\n",
       "      <td>NaN</td>\n",
       "      <td>NaN</td>\n",
       "      <td>NaN</td>\n",
       "      <td>NaN</td>\n",
       "      <td>between 100,000 and 1 million</td>\n",
       "      <td>NaN</td>\n",
       "      <td>NaN</td>\n",
       "      <td>...</td>\n",
       "      <td>1.0</td>\n",
       "      <td>1.0</td>\n",
       "      <td>NaN</td>\n",
       "      <td>NaN</td>\n",
       "      <td>1.0</td>\n",
       "      <td>NaN</td>\n",
       "      <td>NaN</td>\n",
       "      <td>NaN</td>\n",
       "      <td>NaN</td>\n",
       "      <td>NaN</td>\n",
       "    </tr>\n",
       "    <tr>\n",
       "      <th>4</th>\n",
       "      <td>20.0</td>\n",
       "      <td>0.0</td>\n",
       "      <td>NaN</td>\n",
       "      <td>NaN</td>\n",
       "      <td>NaN</td>\n",
       "      <td>NaN</td>\n",
       "      <td>NaN</td>\n",
       "      <td>between 100,000 and 1 million</td>\n",
       "      <td>NaN</td>\n",
       "      <td>NaN</td>\n",
       "      <td>...</td>\n",
       "      <td>NaN</td>\n",
       "      <td>NaN</td>\n",
       "      <td>NaN</td>\n",
       "      <td>NaN</td>\n",
       "      <td>NaN</td>\n",
       "      <td>NaN</td>\n",
       "      <td>NaN</td>\n",
       "      <td>NaN</td>\n",
       "      <td>NaN</td>\n",
       "      <td>NaN</td>\n",
       "    </tr>\n",
       "  </tbody>\n",
       "</table>\n",
       "<p>5 rows × 136 columns</p>\n",
       "</div>"
      ],
      "text/plain": [
       "    Age  AttendedBootcamp  BootcampFinish  BootcampLoanYesNo BootcampName  \\\n",
       "0  27.0               0.0             NaN                NaN          NaN   \n",
       "1  34.0               0.0             NaN                NaN          NaN   \n",
       "2  21.0               0.0             NaN                NaN          NaN   \n",
       "3  26.0               0.0             NaN                NaN          NaN   \n",
       "4  20.0               0.0             NaN                NaN          NaN   \n",
       "\n",
       "   BootcampRecommend  ChildrenNumber                 CityPopulation  \\\n",
       "0                NaN             NaN            more than 1 million   \n",
       "1                NaN             NaN              less than 100,000   \n",
       "2                NaN             NaN            more than 1 million   \n",
       "3                NaN             NaN  between 100,000 and 1 million   \n",
       "4                NaN             NaN  between 100,000 and 1 million   \n",
       "\n",
       "   CodeEventConferences  CodeEventDjangoGirls         ...           \\\n",
       "0                   NaN                   NaN         ...            \n",
       "1                   NaN                   NaN         ...            \n",
       "2                   NaN                   NaN         ...            \n",
       "3                   NaN                   NaN         ...            \n",
       "4                   NaN                   NaN         ...            \n",
       "\n",
       "   YouTubeFCC  YouTubeFunFunFunction  YouTubeGoogleDev  YouTubeLearnCode  \\\n",
       "0         NaN                    NaN               NaN               NaN   \n",
       "1         1.0                    NaN               NaN               NaN   \n",
       "2         NaN                    NaN               NaN               1.0   \n",
       "3         1.0                    1.0               NaN               NaN   \n",
       "4         NaN                    NaN               NaN               NaN   \n",
       "\n",
       "   YouTubeLevelUpTuts  YouTubeMIT  YouTubeMozillaHacks YouTubeOther  \\\n",
       "0                 NaN         NaN                  NaN          NaN   \n",
       "1                 NaN         NaN                  NaN          NaN   \n",
       "2                 1.0         NaN                  NaN          NaN   \n",
       "3                 1.0         NaN                  NaN          NaN   \n",
       "4                 NaN         NaN                  NaN          NaN   \n",
       "\n",
       "   YouTubeSimplilearn  YouTubeTheNewBoston  \n",
       "0                 NaN                  NaN  \n",
       "1                 NaN                  NaN  \n",
       "2                 NaN                  NaN  \n",
       "3                 NaN                  NaN  \n",
       "4                 NaN                  NaN  \n",
       "\n",
       "[5 rows x 136 columns]"
      ]
     },
     "execution_count": 97,
     "metadata": {},
     "output_type": "execute_result"
    }
   ],
   "source": [
    "# Reading the data\n",
    "\n",
    "import pandas as pd\n",
    "import matplotlib.pyplot as plt\n",
    "import numpy as np\n",
    "import seaborn as sns\n",
    "%matplotlib inline \n",
    "\n",
    "survey = pd.read_csv('2017-fCC-New-Coders-Survey-Data.csv')\n",
    "\n",
    "print(survey.shape)\n",
    "survey.head()"
   ]
  },
  {
   "cell_type": "markdown",
   "metadata": {},
   "source": [
    "### Finding the Representativeness of the Sample for our Population of Interest "
   ]
  },
  {
   "cell_type": "code",
   "execution_count": 98,
   "metadata": {
    "collapsed": false
   },
   "outputs": [
    {
     "data": {
      "text/plain": [
       "Full-Stack Web Developer                                                                                                                                                                                               11.770595\n",
       "  Front-End Web Developer                                                                                                                                                                                               6.435927\n",
       "  Data Scientist                                                                                                                                                                                                        2.173913\n",
       "Back-End Web Developer                                                                                                                                                                                                  2.030892\n",
       "  Mobile Developer                                                                                                                                                                                                      1.673341\n",
       "Game Developer                                                                                                                                                                                                          1.630435\n",
       "Information Security                                                                                                                                                                                                    1.315789\n",
       "Full-Stack Web Developer,   Front-End Web Developer                                                                                                                                                                     0.915332\n",
       "  Front-End Web Developer, Full-Stack Web Developer                                                                                                                                                                     0.800915\n",
       "  Product Manager                                                                                                                                                                                                       0.786613\n",
       "Data Engineer                                                                                                                                                                                                           0.758009\n",
       "  User Experience Designer                                                                                                                                                                                              0.743707\n",
       "  User Experience Designer,   Front-End Web Developer                                                                                                                                                                   0.614989\n",
       "  Front-End Web Developer, Back-End Web Developer, Full-Stack Web Developer                                                                                                                                             0.557780\n",
       "Back-End Web Developer,   Front-End Web Developer, Full-Stack Web Developer                                                                                                                                             0.514874\n",
       "Back-End Web Developer, Full-Stack Web Developer,   Front-End Web Developer                                                                                                                                             0.514874\n",
       "  DevOps / SysAdmin                                                                                                                                                                                                     0.514874\n",
       "Full-Stack Web Developer,   Front-End Web Developer, Back-End Web Developer                                                                                                                                             0.443364\n",
       "  Front-End Web Developer, Full-Stack Web Developer, Back-End Web Developer                                                                                                                                             0.429062\n",
       "Full-Stack Web Developer,   Mobile Developer                                                                                                                                                                            0.414760\n",
       "  Front-End Web Developer,   User Experience Designer                                                                                                                                                                   0.414760\n",
       "Back-End Web Developer, Full-Stack Web Developer                                                                                                                                                                        0.386156\n",
       "Full-Stack Web Developer, Back-End Web Developer                                                                                                                                                                        0.371854\n",
       "Back-End Web Developer,   Front-End Web Developer                                                                                                                                                                       0.286041\n",
       "Full-Stack Web Developer, Back-End Web Developer,   Front-End Web Developer                                                                                                                                             0.271739\n",
       "Data Engineer,   Data Scientist                                                                                                                                                                                         0.271739\n",
       "  Front-End Web Developer,   Mobile Developer                                                                                                                                                                           0.257437\n",
       "Full-Stack Web Developer,   Data Scientist                                                                                                                                                                              0.243135\n",
       "  Mobile Developer, Game Developer                                                                                                                                                                                      0.228833\n",
       "  Data Scientist, Data Engineer                                                                                                                                                                                         0.228833\n",
       "                                                                                                                                                                                                                         ...    \n",
       "  Data Scientist, Data Engineer,   Front-End Web Developer                                                                                                                                                              0.014302\n",
       "  Front-End Web Developer, Full-Stack Web Developer, Data Engineer,   Mobile Developer, Game Developer, Back-End Web Developer,   Data Scientist,   User Experience Designer                                            0.014302\n",
       "Game Developer,   User Experience Designer                                                                                                                                                                              0.014302\n",
       "  Product Manager,   Front-End Web Developer, Back-End Web Developer,   User Experience Designer, Full-Stack Web Developer                                                                                              0.014302\n",
       "Information Security,   Data Scientist, Data Engineer, Back-End Web Developer                                                                                                                                           0.014302\n",
       "Information Security,   Front-End Web Developer, Full-Stack Web Developer, Back-End Web Developer,   Mobile Developer                                                                                                   0.014302\n",
       "  Front-End Web Developer, Full-Stack Web Developer, Game Developer, Back-End Web Developer,   Mobile Developer, Information Security                                                                                   0.014302\n",
       "  Data Scientist,   Front-End Web Developer, Data Engineer,   Quality Assurance Engineer                                                                                                                                0.014302\n",
       "Game Developer,   DevOps / SysAdmin,   Mobile Developer, Back-End Web Developer,   Front-End Web Developer, Information Security, Full-Stack Web Developer                                                              0.014302\n",
       "  Mobile Developer, Game Developer, Back-End Web Developer, Full-Stack Web Developer                                                                                                                                    0.014302\n",
       "Game Developer,   Front-End Web Developer,   Mobile Developer, Full-Stack Web Developer                                                                                                                                 0.014302\n",
       "Information Security,   Front-End Web Developer,   User Experience Designer                                                                                                                                             0.014302\n",
       "  Data Scientist, Back-End Web Developer, Data Engineer, Full-Stack Web Developer                                                                                                                                       0.014302\n",
       "  User Experience Designer,   Front-End Web Developer, Full-Stack Web Developer,   Quality Assurance Engineer,   DevOps / SysAdmin, Data Engineer,   Mobile Developer, Information Security, Back-End Web Developer     0.014302\n",
       "  DevOps / SysAdmin, Game Developer, Full-Stack Web Developer, Back-End Web Developer                                                                                                                                   0.014302\n",
       "  User Experience Designer,   Front-End Web Developer,   Quality Assurance Engineer, Information Architect                                                                                                              0.014302\n",
       "Full-Stack Web Developer,   Front-End Web Developer,   Mobile Developer, Game Developer                                                                                                                                 0.014302\n",
       "  Mobile Developer, Game Developer,   User Experience Designer,   Product Manager, Full-Stack Web Developer,   Front-End Web Developer                                                                                  0.014302\n",
       "  Front-End Web Developer,   User Experience Designer,   Mobile Developer, Entrepreneur                                                                                                                                 0.014302\n",
       "Full-Stack Web Developer,   Product Manager,   Mobile Developer, Information Security                                                                                                                                   0.014302\n",
       "Game Developer, Information Security,   Mobile Developer                                                                                                                                                                0.014302\n",
       "Game Developer, Back-End Web Developer,   User Experience Designer                                                                                                                                                      0.014302\n",
       "Back-End Web Developer, Full-Stack Web Developer,   Front-End Web Developer,   Mobile Developer, Information Security                                                                                                   0.014302\n",
       "  DevOps / SysAdmin, Information Security, Data Engineer,   Mobile Developer,   Data Scientist, Back-End Web Developer                                                                                                  0.014302\n",
       "Full-Stack Web Developer, Back-End Web Developer,   Mobile Developer,   Front-End Web Developer,   DevOps / SysAdmin, Information Security                                                                              0.014302\n",
       "  Data Scientist,   DevOps / SysAdmin,   Mobile Developer,   Front-End Web Developer,   Quality Assurance Engineer, Information Security,   Product Manager,   User Experience Designer, Data Engineer                  0.014302\n",
       "Game Developer, Back-End Web Developer,   Front-End Web Developer, Data Engineer, Full-Stack Web Developer,   Data Scientist                                                                                            0.014302\n",
       "  Data Scientist, Information Security,   User Experience Designer                                                                                                                                                      0.014302\n",
       "  Mobile Developer, Back-End Web Developer, Full-Stack Web Developer, Game Developer, Data Engineer                                                                                                                     0.014302\n",
       "  Quality Assurance Engineer,   DevOps / SysAdmin,   User Experience Designer, Information Security,   Product Manager                                                                                                  0.014302\n",
       "Name: JobRoleInterest, Length: 3213, dtype: float64"
      ]
     },
     "execution_count": 98,
     "metadata": {},
     "output_type": "execute_result"
    }
   ],
   "source": [
    "# Analyzing JobRoleInterest column\n",
    "\n",
    "survey['JobRoleInterest'].value_counts(normalize = True)*100"
   ]
  },
  {
   "cell_type": "code",
   "execution_count": 99,
   "metadata": {
    "collapsed": false
   },
   "outputs": [
    {
     "data": {
      "text/plain": [
       "1                           [Full-Stack Web Developer]\n",
       "2    [  Front-End Web Developer,  Back-End Web Deve...\n",
       "3    [  Front-End Web Developer,  Full-Stack Web De...\n",
       "4    [Full-Stack Web Developer,  Information Securi...\n",
       "6                           [Full-Stack Web Developer]\n",
       "Name: JobRoleInterest, dtype: object"
      ]
     },
     "execution_count": 99,
     "metadata": {},
     "output_type": "execute_result"
    }
   ],
   "source": [
    "# Removing 'Nan' values\n",
    "roles = survey['JobRoleInterest'].dropna()\n",
    "\n",
    "# Splitting each values into list of seperate values\n",
    "roles_split = roles.str.split(',')\n",
    "\n",
    "roles_split.head()"
   ]
  },
  {
   "cell_type": "code",
   "execution_count": 100,
   "metadata": {
    "collapsed": false
   },
   "outputs": [
    {
     "data": {
      "text/plain": [
       "1     31.650458\n",
       "3     15.889588\n",
       "4     15.217391\n",
       "5     12.042334\n",
       "2     10.883867\n",
       "6      6.721968\n",
       "7      3.861556\n",
       "8      1.759153\n",
       "9      0.986842\n",
       "10     0.471968\n",
       "12     0.300343\n",
       "11     0.185927\n",
       "13     0.028604\n",
       "Name: JobRoleInterest, dtype: float64"
      ]
     },
     "execution_count": 100,
     "metadata": {},
     "output_type": "execute_result"
    }
   ],
   "source": [
    "# Counting the number of values in each list of roles_split\n",
    "\n",
    "roles_split_counts = roles_split.apply(lambda x: len(x))\n",
    "roles_split_counts.value_counts(normalize = True)*100"
   ]
  },
  {
   "cell_type": "code",
   "execution_count": 101,
   "metadata": {
    "collapsed": true
   },
   "outputs": [],
   "source": [
    "# Finding rows which contain Web Developer or Mobile Developer as a job role interest\n",
    "web_mob_dev = roles.str.contains('Mobile Developer|Web Developer')"
   ]
  },
  {
   "cell_type": "code",
   "execution_count": 102,
   "metadata": {
    "collapsed": false
   },
   "outputs": [
    {
     "data": {
      "text/plain": [
       "True     86.241419\n",
       "False    13.758581\n",
       "Name: JobRoleInterest, dtype: float64"
      ]
     },
     "execution_count": 102,
     "metadata": {},
     "output_type": "execute_result"
    }
   ],
   "source": [
    "# FInding out the frequency of the records having Web Developer or Mobile Developer as a job role interest\n",
    "cnt_web_mob = web_mob_dev.value_counts(normalize = True)*100\n",
    "cnt_web_mob"
   ]
  },
  {
   "cell_type": "code",
   "execution_count": 103,
   "metadata": {
    "collapsed": false
   },
   "outputs": [
    {
     "data": {
      "text/plain": [
       "<matplotlib.text.Text at 0x7f9605ea3b70>"
      ]
     },
     "execution_count": 103,
     "metadata": {},
     "output_type": "execute_result"
    },
    {
     "data": {
      "image/png": "[encoded data removed]",
      "text/plain": [
       "<matplotlib.figure.Figure at 0x7f9605e986d8>"
      ]
     },
     "metadata": {},
     "output_type": "display_data"
    }
   ],
   "source": [
    "\n",
    "cnt_web_mob.plot.bar()\n",
    "plt.title('Interested in \\nWeb or Mobile Development Vs Other Domains')\n",
    "plt.xticks([0,1],['Mobile or Web Developer','Other Domain'],rotation =0)\n",
    "plt.xlabel('Domain')\n",
    "plt.ylabel('Percentages')\n"
   ]
  },
  {
   "cell_type": "markdown",
   "metadata": {},
   "source": [
    "\n",
    "- We see that most of the people are interetsed in more than one subject.\n",
    "- The popularity of the courses on web and mobile development is evident. More than 85% of the respondents are interested in Mobile or Web Developer or both."
   ]
  },
  {
   "cell_type": "markdown",
   "metadata": {
    "collapsed": true
   },
   "source": [
    "### Analyzing data to find the Two Best Countries to Advertise in"
   ]
  },
  {
   "cell_type": "code",
   "execution_count": 104,
   "metadata": {
    "collapsed": false
   },
   "outputs": [
    {
     "data": {
      "text/plain": [
       "United States of America    3125\n",
       "India                        528\n",
       "United Kingdom               315\n",
       "Canada                       260\n",
       "Poland                       131\n",
       "Brazil                       129\n",
       "Germany                      125\n",
       "Australia                    112\n",
       "Russia                       102\n",
       "Ukraine                       89\n",
       "Name: CountryLive, dtype: int64"
      ]
     },
     "execution_count": 104,
     "metadata": {},
     "output_type": "execute_result"
    }
   ],
   "source": [
    "# Analyzing data based on the CounrtyLive column\n",
    "\n",
    "country_data = survey[survey['JobRoleInterest'].notnull()].copy()\n",
    "survey_country = country_data['CountryLive'].dropna()\n",
    "\n",
    "# Finding number of respondents living in each country\n",
    "country_cnts = survey_country.value_counts()\n",
    "country_cnts.head(10)"
   ]
  },
  {
   "cell_type": "code",
   "execution_count": 105,
   "metadata": {
    "collapsed": false
   },
   "outputs": [
    {
     "data": {
      "text/plain": [
       "United States of America    45.700497\n",
       "India                        7.721556\n",
       "United Kingdom               4.606610\n",
       "Canada                       3.802281\n",
       "Poland                       1.915765\n",
       "Brazil                       1.886517\n",
       "Germany                      1.828020\n",
       "Australia                    1.637906\n",
       "Russia                       1.491664\n",
       "Ukraine                      1.301550\n",
       "Name: CountryLive, dtype: float64"
      ]
     },
     "execution_count": 105,
     "metadata": {},
     "output_type": "execute_result"
    }
   ],
   "source": [
    "# Evaluating relative frequencies\n",
    "rel_country_freq = survey_country.value_counts(normalize = True)*100\n",
    "rel_country_freq.head(10)"
   ]
  },
  {
   "cell_type": "markdown",
   "metadata": {},
   "source": [
    "After looking at the counts of developers from each country, considering markets with considerable number of learners/developers makes sense for marketting a product. We will choose the countries where the number of learners/developers are more than 500.\n",
    "\n",
    "Among the countries where the count of learners/developers are more than 500, from our analysis till now, USA and India clearly are the countries which can be chosen to market the product. \n",
    "\n",
    "We need to further analyze the data set on other factors before we make our final selections. "
   ]
  },
  {
   "cell_type": "markdown",
   "metadata": {},
   "source": [
    "### Analyzing how Much Money New Coders are  Willing to Spend on Learning"
   ]
  },
  {
   "cell_type": "code",
   "execution_count": 106,
   "metadata": {
    "collapsed": false
   },
   "outputs": [
    {
     "name": "stderr",
     "output_type": "stream",
     "text": [
      "/dataquest/system/env/python3/lib/python3.4/site-packages/ipykernel/__main__.py:2: UserWarning: Boolean Series key will be reindexed to match DataFrame index.\n",
      "  from ipykernel import kernelapp as app\n",
      "/dataquest/system/env/python3/lib/python3.4/site-packages/pandas/core/generic.py:4619: SettingWithCopyWarning: \n",
      "A value is trying to be set on a copy of a slice from a DataFrame\n",
      "\n",
      "See the caveats in the documentation: http://pandas.pydata.org/pandas-docs/stable/indexing.html#indexing-view-versus-copy\n",
      "  self._update_inplace(new_data)\n",
      "/dataquest/system/env/python3/lib/python3.4/site-packages/ipykernel/__main__.py:9: SettingWithCopyWarning: \n",
      "A value is trying to be set on a copy of a slice from a DataFrame.\n",
      "Try using .loc[row_indexer,col_indexer] = value instead\n",
      "\n",
      "See the caveats in the documentation: http://pandas.pydata.org/pandas-docs/stable/indexing.html#indexing-view-versus-copy\n"
     ]
    },
    {
     "data": {
      "text/html": [
       "<div>\n",
       "<style scoped>\n",
       "    .dataframe tbody tr th:only-of-type {\n",
       "        vertical-align: middle;\n",
       "    }\n",
       "\n",
       "    .dataframe tbody tr th {\n",
       "        vertical-align: top;\n",
       "    }\n",
       "\n",
       "    .dataframe thead th {\n",
       "        text-align: right;\n",
       "    }\n",
       "</style>\n",
       "<table border=\"1\" class=\"dataframe\">\n",
       "  <thead>\n",
       "    <tr style=\"text-align: right;\">\n",
       "      <th></th>\n",
       "      <th>Age</th>\n",
       "      <th>AttendedBootcamp</th>\n",
       "      <th>BootcampFinish</th>\n",
       "      <th>BootcampLoanYesNo</th>\n",
       "      <th>BootcampName</th>\n",
       "      <th>BootcampRecommend</th>\n",
       "      <th>ChildrenNumber</th>\n",
       "      <th>CityPopulation</th>\n",
       "      <th>CodeEventConferences</th>\n",
       "      <th>CodeEventDjangoGirls</th>\n",
       "      <th>...</th>\n",
       "      <th>YouTubeFunFunFunction</th>\n",
       "      <th>YouTubeGoogleDev</th>\n",
       "      <th>YouTubeLearnCode</th>\n",
       "      <th>YouTubeLevelUpTuts</th>\n",
       "      <th>YouTubeMIT</th>\n",
       "      <th>YouTubeMozillaHacks</th>\n",
       "      <th>YouTubeOther</th>\n",
       "      <th>YouTubeSimplilearn</th>\n",
       "      <th>YouTubeTheNewBoston</th>\n",
       "      <th>MoneyPerMonth</th>\n",
       "    </tr>\n",
       "  </thead>\n",
       "  <tbody>\n",
       "    <tr>\n",
       "      <th>1</th>\n",
       "      <td>34.0</td>\n",
       "      <td>0.0</td>\n",
       "      <td>NaN</td>\n",
       "      <td>NaN</td>\n",
       "      <td>NaN</td>\n",
       "      <td>NaN</td>\n",
       "      <td>NaN</td>\n",
       "      <td>less than 100,000</td>\n",
       "      <td>NaN</td>\n",
       "      <td>NaN</td>\n",
       "      <td>...</td>\n",
       "      <td>NaN</td>\n",
       "      <td>NaN</td>\n",
       "      <td>NaN</td>\n",
       "      <td>NaN</td>\n",
       "      <td>NaN</td>\n",
       "      <td>NaN</td>\n",
       "      <td>NaN</td>\n",
       "      <td>NaN</td>\n",
       "      <td>NaN</td>\n",
       "      <td>13.33</td>\n",
       "    </tr>\n",
       "    <tr>\n",
       "      <th>2</th>\n",
       "      <td>21.0</td>\n",
       "      <td>0.0</td>\n",
       "      <td>NaN</td>\n",
       "      <td>NaN</td>\n",
       "      <td>NaN</td>\n",
       "      <td>NaN</td>\n",
       "      <td>NaN</td>\n",
       "      <td>more than 1 million</td>\n",
       "      <td>NaN</td>\n",
       "      <td>NaN</td>\n",
       "      <td>...</td>\n",
       "      <td>NaN</td>\n",
       "      <td>NaN</td>\n",
       "      <td>1.0</td>\n",
       "      <td>1.0</td>\n",
       "      <td>NaN</td>\n",
       "      <td>NaN</td>\n",
       "      <td>NaN</td>\n",
       "      <td>NaN</td>\n",
       "      <td>NaN</td>\n",
       "      <td>200.00</td>\n",
       "    </tr>\n",
       "    <tr>\n",
       "      <th>6</th>\n",
       "      <td>29.0</td>\n",
       "      <td>0.0</td>\n",
       "      <td>NaN</td>\n",
       "      <td>NaN</td>\n",
       "      <td>NaN</td>\n",
       "      <td>NaN</td>\n",
       "      <td>NaN</td>\n",
       "      <td>between 100,000 and 1 million</td>\n",
       "      <td>1.0</td>\n",
       "      <td>NaN</td>\n",
       "      <td>...</td>\n",
       "      <td>NaN</td>\n",
       "      <td>NaN</td>\n",
       "      <td>NaN</td>\n",
       "      <td>NaN</td>\n",
       "      <td>NaN</td>\n",
       "      <td>NaN</td>\n",
       "      <td>NaN</td>\n",
       "      <td>NaN</td>\n",
       "      <td>NaN</td>\n",
       "      <td>0.00</td>\n",
       "    </tr>\n",
       "    <tr>\n",
       "      <th>13</th>\n",
       "      <td>44.0</td>\n",
       "      <td>0.0</td>\n",
       "      <td>NaN</td>\n",
       "      <td>NaN</td>\n",
       "      <td>NaN</td>\n",
       "      <td>NaN</td>\n",
       "      <td>NaN</td>\n",
       "      <td>between 100,000 and 1 million</td>\n",
       "      <td>NaN</td>\n",
       "      <td>NaN</td>\n",
       "      <td>...</td>\n",
       "      <td>NaN</td>\n",
       "      <td>NaN</td>\n",
       "      <td>NaN</td>\n",
       "      <td>NaN</td>\n",
       "      <td>NaN</td>\n",
       "      <td>NaN</td>\n",
       "      <td>NaN</td>\n",
       "      <td>NaN</td>\n",
       "      <td>NaN</td>\n",
       "      <td>NaN</td>\n",
       "    </tr>\n",
       "    <tr>\n",
       "      <th>14</th>\n",
       "      <td>27.0</td>\n",
       "      <td>1.0</td>\n",
       "      <td>1.0</td>\n",
       "      <td>0.0</td>\n",
       "      <td>Code Fellows</td>\n",
       "      <td>1.0</td>\n",
       "      <td>NaN</td>\n",
       "      <td>between 100,000 and 1 million</td>\n",
       "      <td>NaN</td>\n",
       "      <td>NaN</td>\n",
       "      <td>...</td>\n",
       "      <td>NaN</td>\n",
       "      <td>NaN</td>\n",
       "      <td>NaN</td>\n",
       "      <td>NaN</td>\n",
       "      <td>NaN</td>\n",
       "      <td>NaN</td>\n",
       "      <td>NaN</td>\n",
       "      <td>NaN</td>\n",
       "      <td>NaN</td>\n",
       "      <td>NaN</td>\n",
       "    </tr>\n",
       "  </tbody>\n",
       "</table>\n",
       "<p>5 rows × 137 columns</p>\n",
       "</div>"
      ],
      "text/plain": [
       "     Age  AttendedBootcamp  BootcampFinish  BootcampLoanYesNo  BootcampName  \\\n",
       "1   34.0               0.0             NaN                NaN           NaN   \n",
       "2   21.0               0.0             NaN                NaN           NaN   \n",
       "6   29.0               0.0             NaN                NaN           NaN   \n",
       "13  44.0               0.0             NaN                NaN           NaN   \n",
       "14  27.0               1.0             1.0                0.0  Code Fellows   \n",
       "\n",
       "    BootcampRecommend  ChildrenNumber                 CityPopulation  \\\n",
       "1                 NaN             NaN              less than 100,000   \n",
       "2                 NaN             NaN            more than 1 million   \n",
       "6                 NaN             NaN  between 100,000 and 1 million   \n",
       "13                NaN             NaN  between 100,000 and 1 million   \n",
       "14                1.0             NaN  between 100,000 and 1 million   \n",
       "\n",
       "    CodeEventConferences  CodeEventDjangoGirls      ...        \\\n",
       "1                    NaN                   NaN      ...         \n",
       "2                    NaN                   NaN      ...         \n",
       "6                    1.0                   NaN      ...         \n",
       "13                   NaN                   NaN      ...         \n",
       "14                   NaN                   NaN      ...         \n",
       "\n",
       "    YouTubeFunFunFunction  YouTubeGoogleDev  YouTubeLearnCode  \\\n",
       "1                     NaN               NaN               NaN   \n",
       "2                     NaN               NaN               1.0   \n",
       "6                     NaN               NaN               NaN   \n",
       "13                    NaN               NaN               NaN   \n",
       "14                    NaN               NaN               NaN   \n",
       "\n",
       "    YouTubeLevelUpTuts  YouTubeMIT  YouTubeMozillaHacks  YouTubeOther  \\\n",
       "1                  NaN         NaN                  NaN           NaN   \n",
       "2                  1.0         NaN                  NaN           NaN   \n",
       "6                  NaN         NaN                  NaN           NaN   \n",
       "13                 NaN         NaN                  NaN           NaN   \n",
       "14                 NaN         NaN                  NaN           NaN   \n",
       "\n",
       "   YouTubeSimplilearn  YouTubeTheNewBoston  MoneyPerMonth  \n",
       "1                 NaN                  NaN          13.33  \n",
       "2                 NaN                  NaN         200.00  \n",
       "6                 NaN                  NaN           0.00  \n",
       "13                NaN                  NaN            NaN  \n",
       "14                NaN                  NaN            NaN  \n",
       "\n",
       "[5 rows x 137 columns]"
      ]
     },
     "execution_count": 106,
     "metadata": {},
     "output_type": "execute_result"
    }
   ],
   "source": [
    "# Filtering data to contain infomration only for countries with more than 500 learners/coders.\n",
    "money_learning = country_data[survey['CountryLive'].isin(['United States of America','India','Canada','United Kingdom'])]\n",
    "\n",
    "# Replacing the MonthsProgramming value to 1.0 where the value is 0\n",
    "money_learning['MonthsProgramming'].replace(0,1,inplace=True)\n",
    "\n",
    "# Creating a new column to describe the amount of money student has spent per month \n",
    "# Rounding off the new column to 2 digits\n",
    "money_learning['MoneyPerMonth'] = round(money_learning['MoneyForLearning']/money_learning['MonthsProgramming'],2)\n",
    "\n",
    "money_learning.head()\n"
   ]
  },
  {
   "cell_type": "code",
   "execution_count": 107,
   "metadata": {
    "collapsed": false
   },
   "outputs": [
    {
     "name": "stdout",
     "output_type": "stream",
     "text": [
      "United States of America    1619\n",
      "India                        201\n",
      "United Kingdom               137\n",
      "Canada                       114\n",
      "Name: CountryLive, dtype: int64\n"
     ]
    },
    {
     "name": "stderr",
     "output_type": "stream",
     "text": [
      "/dataquest/system/env/python3/lib/python3.4/site-packages/ipykernel/__main__.py:3: SettingWithCopyWarning: \n",
      "A value is trying to be set on a copy of a slice from a DataFrame\n",
      "\n",
      "See the caveats in the documentation: http://pandas.pydata.org/pandas-docs/stable/indexing.html#indexing-view-versus-copy\n",
      "  app.launch_new_instance()\n"
     ]
    },
    {
     "data": {
      "text/plain": [
       "<matplotlib.text.Text at 0x7f9605e2f5c0>"
      ]
     },
     "execution_count": 107,
     "metadata": {},
     "output_type": "execute_result"
    },
    {
     "data": {
      "image/png": "[encoded data removed]",
      "text/plain": [
       "<matplotlib.figure.Figure at 0x7f96061ab908>"
      ]
     },
     "metadata": {},
     "output_type": "display_data"
    }
   ],
   "source": [
    "\n",
    "# Dropping all rows with Nan values\n",
    "money_learning.dropna(subset=['MoneyPerMonth','CountryLive'], inplace = True)\n",
    "\n",
    "# Finding out the number of paying learners/developers in each country\n",
    "paying_count = money_learning[money_learning['MoneyPerMonth']>0]['CountryLive'].value_counts()\n",
    "\n",
    "print(paying_count)\n",
    "\n",
    "paying_count.plot.pie(figsize = (8,8),autopct='%1.0f%%',pctdistance=0.8,colormap = 'Dark2',fontsize = 12)\n",
    "plt.ylabel('')\n",
    "plt.title('Distribution of Paying Learners', fontsize = 15)"
   ]
  },
  {
   "cell_type": "code",
   "execution_count": 108,
   "metadata": {
    "collapsed": false
   },
   "outputs": [
    {
     "name": "stdout",
     "output_type": "stream",
     "text": [
      "CountryLive\n",
      "Canada                      113.510958\n",
      "India                       135.101102\n",
      "United Kingdom               45.534337\n",
      "United States of America    227.998023\n",
      "Name: MoneyPerMonth, dtype: float64\n"
     ]
    },
    {
     "data": {
      "text/plain": [
       "<matplotlib.text.Text at 0x7f9605dfceb8>"
      ]
     },
     "execution_count": 108,
     "metadata": {},
     "output_type": "execute_result"
    },
    {
     "data": {
      "image/png": "[encoded data removed]",
      "text/plain": [
       "<matplotlib.figure.Figure at 0x7f9605e21320>"
      ]
     },
     "metadata": {},
     "output_type": "display_data"
    }
   ],
   "source": [
    "# Finding the mean amount spent monthly\n",
    "mean_monthly = money_learning.groupby('CountryLive').mean()['MoneyPerMonth']\n",
    "print(mean_monthly)\n",
    "\n",
    "mean_monthly.plot.bar(figsize = (10,7),rot=0,fontsize=12)\n",
    "plt.title('Monthly Spending', fontsize = 15)\n",
    "plt.xlabel('Countries',fontsize = 15)\n",
    "plt.ylabel('Mean Amount', fontsize = 15)\n"
   ]
  },
  {
   "cell_type": "markdown",
   "metadata": {},
   "source": [
    "- The most number of paying learners are from United States of America followed by India. \n",
    "- The mean amount spent by learners in USA and India are on higher scale. \n",
    "- These mean amounts may be influenced by some outliers we need to do find the ouliers and recalculate the mean amounts to represent an appropriate value.\n"
   ]
  },
  {
   "cell_type": "markdown",
   "metadata": {},
   "source": [
    "### Finding Outliers"
   ]
  },
  {
   "cell_type": "code",
   "execution_count": 109,
   "metadata": {
    "collapsed": false
   },
   "outputs": [
    {
     "name": "stderr",
     "output_type": "stream",
     "text": [
      "/dataquest/system/env/python3/lib/python3.4/site-packages/seaborn/categorical.py:454: FutureWarning: remove_na is deprecated and is a private function. Do not use.\n",
      "  box_data = remove_na(group_data)\n"
     ]
    },
    {
     "data": {
      "text/plain": [
       "([<matplotlib.axis.XTick at 0x7f9605e0c630>,\n",
       "  <matplotlib.axis.XTick at 0x7f9605e273c8>,\n",
       "  <matplotlib.axis.XTick at 0x7f9605d21fd0>,\n",
       "  <matplotlib.axis.XTick at 0x7f9605cf7eb8>],\n",
       " <a list of 4 Text xticklabel objects>)"
      ]
     },
     "execution_count": 109,
     "metadata": {},
     "output_type": "execute_result"
    },
    {
     "data": {
      "image/png": "[encoded data removed]",
      "text/plain": [
       "<matplotlib.figure.Figure at 0x7f960a518320>"
      ]
     },
     "metadata": {},
     "output_type": "display_data"
    }
   ],
   "source": [
    "# Plotting barplot points to indentify outliers\n",
    "\n",
    "sns.boxplot(x = 'CountryLive',y = 'MoneyPerMonth',data=money_learning)\n",
    "\n",
    "plt.title('Money Spent Per Month Per Country\\n(Distributions)')\n",
    "plt.xlabel('Countries')\n",
    "plt.ylabel('Money Spent Per Month')\n",
    "plt.xticks(range(4),['USA','UK','India','Canada'])"
   ]
  },
  {
   "cell_type": "markdown",
   "metadata": {},
   "source": [
    "There are clear outliers in the data we are analyzing. To find out meaningful statistics, we need to filter out records to contain more representative data.\n",
    "\n",
    "We will consider data where the monthly spending is less than 20K."
   ]
  },
  {
   "cell_type": "code",
   "execution_count": 110,
   "metadata": {
    "collapsed": false
   },
   "outputs": [
    {
     "data": {
      "text/plain": [
       "CountryLive\n",
       "Canada                      113.510958\n",
       "India                       135.101102\n",
       "United Kingdom               45.534337\n",
       "United States of America    183.800136\n",
       "Name: MoneyPerMonth, dtype: float64"
      ]
     },
     "execution_count": 110,
     "metadata": {},
     "output_type": "execute_result"
    }
   ],
   "source": [
    "# Filtering data to contain records where monthly spending is <20K\n",
    "money_learning = money_learning[money_learning['MoneyPerMonth']<20000]\n",
    "\n",
    "money_learning.groupby('CountryLive').mean()['MoneyPerMonth']"
   ]
  },
  {
   "cell_type": "code",
   "execution_count": 111,
   "metadata": {
    "collapsed": false
   },
   "outputs": [
    {
     "name": "stderr",
     "output_type": "stream",
     "text": [
      "/dataquest/system/env/python3/lib/python3.4/site-packages/seaborn/categorical.py:454: FutureWarning: remove_na is deprecated and is a private function. Do not use.\n",
      "  box_data = remove_na(group_data)\n"
     ]
    },
    {
     "data": {
      "text/plain": [
       "([<matplotlib.axis.XTick at 0x7f9605cb5898>,\n",
       "  <matplotlib.axis.XTick at 0x7f9605cb54a8>,\n",
       "  <matplotlib.axis.XTick at 0x7f9605c6c668>,\n",
       "  <matplotlib.axis.XTick at 0x7f9605c17438>],\n",
       " <a list of 4 Text xticklabel objects>)"
      ]
     },
     "execution_count": 111,
     "metadata": {},
     "output_type": "execute_result"
    },
    {
     "data": {
      "image/png": "[encoded data removed]",
      "text/plain": [
       "<matplotlib.figure.Figure at 0x7f9605d6b518>"
      ]
     },
     "metadata": {},
     "output_type": "display_data"
    }
   ],
   "source": [
    "# Plotting barplot points to indentify outliers\n",
    "\n",
    "sns.boxplot(x = 'CountryLive',y = 'MoneyPerMonth',data=money_learning)\n",
    "\n",
    "plt.title('Money Spent Per Month Per Country\\n(Distributions)')\n",
    "plt.xlabel('Countries')\n",
    "plt.ylabel('Money Spent Per Month')\n",
    "plt.xticks(range(4),['USA','UK','India','Canada'])"
   ]
  },
  {
   "cell_type": "markdown",
   "metadata": {},
   "source": [
    "The above distribution is much clear. There are still outliers we can see in the countries where the monthly amount spent is quite higher than usual. We will have to analyze the data for individual country to get more insights. Let us begin with analyzing the outliers for USA.\n",
    "- We see that the extreme values for USA are above the amount $6000. \n"
   ]
  },
  {
   "cell_type": "code",
   "execution_count": 112,
   "metadata": {
    "collapsed": false
   },
   "outputs": [
    {
     "data": {
      "text/html": [
       "<div>\n",
       "<style scoped>\n",
       "    .dataframe tbody tr th:only-of-type {\n",
       "        vertical-align: middle;\n",
       "    }\n",
       "\n",
       "    .dataframe tbody tr th {\n",
       "        vertical-align: top;\n",
       "    }\n",
       "\n",
       "    .dataframe thead th {\n",
       "        text-align: right;\n",
       "    }\n",
       "</style>\n",
       "<table border=\"1\" class=\"dataframe\">\n",
       "  <thead>\n",
       "    <tr style=\"text-align: right;\">\n",
       "      <th></th>\n",
       "      <th>AttendedBootcamp</th>\n",
       "      <th>MonthsProgramming</th>\n",
       "      <th>MoneyPerMonth</th>\n",
       "      <th>Income</th>\n",
       "    </tr>\n",
       "  </thead>\n",
       "  <tbody>\n",
       "    <tr>\n",
       "      <th>718</th>\n",
       "      <td>1.0</td>\n",
       "      <td>1.0</td>\n",
       "      <td>8000.00</td>\n",
       "      <td>44500.0</td>\n",
       "    </tr>\n",
       "    <tr>\n",
       "      <th>1222</th>\n",
       "      <td>1.0</td>\n",
       "      <td>2.0</td>\n",
       "      <td>6500.00</td>\n",
       "      <td>NaN</td>\n",
       "    </tr>\n",
       "    <tr>\n",
       "      <th>3184</th>\n",
       "      <td>1.0</td>\n",
       "      <td>1.0</td>\n",
       "      <td>9000.00</td>\n",
       "      <td>40000.0</td>\n",
       "    </tr>\n",
       "    <tr>\n",
       "      <th>3930</th>\n",
       "      <td>0.0</td>\n",
       "      <td>6.0</td>\n",
       "      <td>10833.33</td>\n",
       "      <td>NaN</td>\n",
       "    </tr>\n",
       "    <tr>\n",
       "      <th>6805</th>\n",
       "      <td>1.0</td>\n",
       "      <td>1.0</td>\n",
       "      <td>15000.00</td>\n",
       "      <td>NaN</td>\n",
       "    </tr>\n",
       "    <tr>\n",
       "      <th>7198</th>\n",
       "      <td>0.0</td>\n",
       "      <td>5.0</td>\n",
       "      <td>14000.00</td>\n",
       "      <td>NaN</td>\n",
       "    </tr>\n",
       "    <tr>\n",
       "      <th>7505</th>\n",
       "      <td>1.0</td>\n",
       "      <td>3.0</td>\n",
       "      <td>6666.67</td>\n",
       "      <td>NaN</td>\n",
       "    </tr>\n",
       "    <tr>\n",
       "      <th>9778</th>\n",
       "      <td>1.0</td>\n",
       "      <td>1.0</td>\n",
       "      <td>8000.00</td>\n",
       "      <td>20000.0</td>\n",
       "    </tr>\n",
       "    <tr>\n",
       "      <th>16650</th>\n",
       "      <td>0.0</td>\n",
       "      <td>12.0</td>\n",
       "      <td>16666.67</td>\n",
       "      <td>NaN</td>\n",
       "    </tr>\n",
       "    <tr>\n",
       "      <th>16997</th>\n",
       "      <td>0.0</td>\n",
       "      <td>1.0</td>\n",
       "      <td>12500.00</td>\n",
       "      <td>40000.0</td>\n",
       "    </tr>\n",
       "    <tr>\n",
       "      <th>17231</th>\n",
       "      <td>0.0</td>\n",
       "      <td>2.0</td>\n",
       "      <td>15000.00</td>\n",
       "      <td>NaN</td>\n",
       "    </tr>\n",
       "  </tbody>\n",
       "</table>\n",
       "</div>"
      ],
      "text/plain": [
       "       AttendedBootcamp  MonthsProgramming  MoneyPerMonth   Income\n",
       "718                 1.0                1.0        8000.00  44500.0\n",
       "1222                1.0                2.0        6500.00      NaN\n",
       "3184                1.0                1.0        9000.00  40000.0\n",
       "3930                0.0                6.0       10833.33      NaN\n",
       "6805                1.0                1.0       15000.00      NaN\n",
       "7198                0.0                5.0       14000.00      NaN\n",
       "7505                1.0                3.0        6666.67      NaN\n",
       "9778                1.0                1.0        8000.00  20000.0\n",
       "16650               0.0               12.0       16666.67      NaN\n",
       "16997               0.0                1.0       12500.00  40000.0\n",
       "17231               0.0                2.0       15000.00      NaN"
      ]
     },
     "execution_count": 112,
     "metadata": {},
     "output_type": "execute_result"
    }
   ],
   "source": [
    "# Filtering the outliers data to analyze the outliers.\n",
    "\n",
    "outliers_usa = money_learning[(money_learning['MoneyPerMonth']>=6000) & (money_learning['CountryLive']== 'United States of America')]\n",
    "outliers_usa[['AttendedBootcamp','MonthsProgramming','MoneyPerMonth','Income']]"
   ]
  },
  {
   "cell_type": "markdown",
   "metadata": {
    "collapsed": false
   },
   "source": [
    "- In the US, we see 11 learners/developers who pay more than $6000 monthly on learning. \n",
    "\n",
    "- Among them, 6 learners/ develoeprs have attended bootcamps. Bootcamps are generally high priced. \n",
    "But we see that, these learners are new to learning. The number of months they have been programming is fairly low. They must have paid for the bootcamps and may not spend more money in the few more months to come. \n",
    "\n",
    "- 5 other learners/developers have not attended any bootcamps and pay more than $6000 monthy. This is an unusual amount and is quite high compared to the other paying learners. \n",
    "\n",
    "- To continue our data analysis, we will consider these learners as outliers and filter them to get a more representative data."
   ]
  },
  {
   "cell_type": "code",
   "execution_count": 113,
   "metadata": {
    "collapsed": true
   },
   "outputs": [],
   "source": [
    "# Dropping USA outliers\n",
    "money_learning = money_learning.drop(outliers_usa.index)"
   ]
  },
  {
   "cell_type": "markdown",
   "metadata": {},
   "source": [
    "From the plot, we saw extreme outliers for India of values over $2500. Analyzing these learners is important to see if their relevance with the other learners in the data."
   ]
  },
  {
   "cell_type": "code",
   "execution_count": 114,
   "metadata": {
    "collapsed": false
   },
   "outputs": [
    {
     "data": {
      "text/html": [
       "<div>\n",
       "<style scoped>\n",
       "    .dataframe tbody tr th:only-of-type {\n",
       "        vertical-align: middle;\n",
       "    }\n",
       "\n",
       "    .dataframe tbody tr th {\n",
       "        vertical-align: top;\n",
       "    }\n",
       "\n",
       "    .dataframe thead th {\n",
       "        text-align: right;\n",
       "    }\n",
       "</style>\n",
       "<table border=\"1\" class=\"dataframe\">\n",
       "  <thead>\n",
       "    <tr style=\"text-align: right;\">\n",
       "      <th></th>\n",
       "      <th>Age</th>\n",
       "      <th>AttendedBootcamp</th>\n",
       "      <th>BootcampFinish</th>\n",
       "      <th>BootcampLoanYesNo</th>\n",
       "      <th>BootcampName</th>\n",
       "      <th>BootcampRecommend</th>\n",
       "      <th>ChildrenNumber</th>\n",
       "      <th>CityPopulation</th>\n",
       "      <th>CodeEventConferences</th>\n",
       "      <th>CodeEventDjangoGirls</th>\n",
       "      <th>...</th>\n",
       "      <th>YouTubeFunFunFunction</th>\n",
       "      <th>YouTubeGoogleDev</th>\n",
       "      <th>YouTubeLearnCode</th>\n",
       "      <th>YouTubeLevelUpTuts</th>\n",
       "      <th>YouTubeMIT</th>\n",
       "      <th>YouTubeMozillaHacks</th>\n",
       "      <th>YouTubeOther</th>\n",
       "      <th>YouTubeSimplilearn</th>\n",
       "      <th>YouTubeTheNewBoston</th>\n",
       "      <th>MoneyPerMonth</th>\n",
       "    </tr>\n",
       "  </thead>\n",
       "  <tbody>\n",
       "    <tr>\n",
       "      <th>1728</th>\n",
       "      <td>24.0</td>\n",
       "      <td>0.0</td>\n",
       "      <td>NaN</td>\n",
       "      <td>NaN</td>\n",
       "      <td>NaN</td>\n",
       "      <td>NaN</td>\n",
       "      <td>NaN</td>\n",
       "      <td>between 100,000 and 1 million</td>\n",
       "      <td>NaN</td>\n",
       "      <td>NaN</td>\n",
       "      <td>...</td>\n",
       "      <td>NaN</td>\n",
       "      <td>NaN</td>\n",
       "      <td>NaN</td>\n",
       "      <td>NaN</td>\n",
       "      <td>NaN</td>\n",
       "      <td>NaN</td>\n",
       "      <td>NaN</td>\n",
       "      <td>NaN</td>\n",
       "      <td>NaN</td>\n",
       "      <td>5000.00</td>\n",
       "    </tr>\n",
       "    <tr>\n",
       "      <th>1755</th>\n",
       "      <td>20.0</td>\n",
       "      <td>0.0</td>\n",
       "      <td>NaN</td>\n",
       "      <td>NaN</td>\n",
       "      <td>NaN</td>\n",
       "      <td>NaN</td>\n",
       "      <td>NaN</td>\n",
       "      <td>more than 1 million</td>\n",
       "      <td>NaN</td>\n",
       "      <td>NaN</td>\n",
       "      <td>...</td>\n",
       "      <td>NaN</td>\n",
       "      <td>NaN</td>\n",
       "      <td>1.0</td>\n",
       "      <td>NaN</td>\n",
       "      <td>1.0</td>\n",
       "      <td>NaN</td>\n",
       "      <td>NaN</td>\n",
       "      <td>NaN</td>\n",
       "      <td>NaN</td>\n",
       "      <td>3333.33</td>\n",
       "    </tr>\n",
       "    <tr>\n",
       "      <th>7989</th>\n",
       "      <td>28.0</td>\n",
       "      <td>0.0</td>\n",
       "      <td>NaN</td>\n",
       "      <td>NaN</td>\n",
       "      <td>NaN</td>\n",
       "      <td>NaN</td>\n",
       "      <td>NaN</td>\n",
       "      <td>between 100,000 and 1 million</td>\n",
       "      <td>1.0</td>\n",
       "      <td>NaN</td>\n",
       "      <td>...</td>\n",
       "      <td>NaN</td>\n",
       "      <td>NaN</td>\n",
       "      <td>NaN</td>\n",
       "      <td>NaN</td>\n",
       "      <td>NaN</td>\n",
       "      <td>NaN</td>\n",
       "      <td>NaN</td>\n",
       "      <td>NaN</td>\n",
       "      <td>NaN</td>\n",
       "      <td>5000.00</td>\n",
       "    </tr>\n",
       "    <tr>\n",
       "      <th>8126</th>\n",
       "      <td>22.0</td>\n",
       "      <td>0.0</td>\n",
       "      <td>NaN</td>\n",
       "      <td>NaN</td>\n",
       "      <td>NaN</td>\n",
       "      <td>NaN</td>\n",
       "      <td>NaN</td>\n",
       "      <td>more than 1 million</td>\n",
       "      <td>NaN</td>\n",
       "      <td>NaN</td>\n",
       "      <td>...</td>\n",
       "      <td>NaN</td>\n",
       "      <td>1.0</td>\n",
       "      <td>NaN</td>\n",
       "      <td>NaN</td>\n",
       "      <td>1.0</td>\n",
       "      <td>NaN</td>\n",
       "      <td>NaN</td>\n",
       "      <td>NaN</td>\n",
       "      <td>1.0</td>\n",
       "      <td>5000.00</td>\n",
       "    </tr>\n",
       "    <tr>\n",
       "      <th>13398</th>\n",
       "      <td>19.0</td>\n",
       "      <td>0.0</td>\n",
       "      <td>NaN</td>\n",
       "      <td>NaN</td>\n",
       "      <td>NaN</td>\n",
       "      <td>NaN</td>\n",
       "      <td>NaN</td>\n",
       "      <td>more than 1 million</td>\n",
       "      <td>NaN</td>\n",
       "      <td>NaN</td>\n",
       "      <td>...</td>\n",
       "      <td>NaN</td>\n",
       "      <td>NaN</td>\n",
       "      <td>NaN</td>\n",
       "      <td>NaN</td>\n",
       "      <td>NaN</td>\n",
       "      <td>NaN</td>\n",
       "      <td>NaN</td>\n",
       "      <td>NaN</td>\n",
       "      <td>NaN</td>\n",
       "      <td>10000.00</td>\n",
       "    </tr>\n",
       "    <tr>\n",
       "      <th>15587</th>\n",
       "      <td>27.0</td>\n",
       "      <td>0.0</td>\n",
       "      <td>NaN</td>\n",
       "      <td>NaN</td>\n",
       "      <td>NaN</td>\n",
       "      <td>NaN</td>\n",
       "      <td>NaN</td>\n",
       "      <td>more than 1 million</td>\n",
       "      <td>NaN</td>\n",
       "      <td>NaN</td>\n",
       "      <td>...</td>\n",
       "      <td>NaN</td>\n",
       "      <td>1.0</td>\n",
       "      <td>1.0</td>\n",
       "      <td>NaN</td>\n",
       "      <td>1.0</td>\n",
       "      <td>NaN</td>\n",
       "      <td>NaN</td>\n",
       "      <td>NaN</td>\n",
       "      <td>NaN</td>\n",
       "      <td>4166.67</td>\n",
       "    </tr>\n",
       "  </tbody>\n",
       "</table>\n",
       "<p>6 rows × 137 columns</p>\n",
       "</div>"
      ],
      "text/plain": [
       "        Age  AttendedBootcamp  BootcampFinish  BootcampLoanYesNo BootcampName  \\\n",
       "1728   24.0               0.0             NaN                NaN          NaN   \n",
       "1755   20.0               0.0             NaN                NaN          NaN   \n",
       "7989   28.0               0.0             NaN                NaN          NaN   \n",
       "8126   22.0               0.0             NaN                NaN          NaN   \n",
       "13398  19.0               0.0             NaN                NaN          NaN   \n",
       "15587  27.0               0.0             NaN                NaN          NaN   \n",
       "\n",
       "       BootcampRecommend  ChildrenNumber                 CityPopulation  \\\n",
       "1728                 NaN             NaN  between 100,000 and 1 million   \n",
       "1755                 NaN             NaN            more than 1 million   \n",
       "7989                 NaN             NaN  between 100,000 and 1 million   \n",
       "8126                 NaN             NaN            more than 1 million   \n",
       "13398                NaN             NaN            more than 1 million   \n",
       "15587                NaN             NaN            more than 1 million   \n",
       "\n",
       "       CodeEventConferences  CodeEventDjangoGirls      ...        \\\n",
       "1728                    NaN                   NaN      ...         \n",
       "1755                    NaN                   NaN      ...         \n",
       "7989                    1.0                   NaN      ...         \n",
       "8126                    NaN                   NaN      ...         \n",
       "13398                   NaN                   NaN      ...         \n",
       "15587                   NaN                   NaN      ...         \n",
       "\n",
       "       YouTubeFunFunFunction  YouTubeGoogleDev  YouTubeLearnCode  \\\n",
       "1728                     NaN               NaN               NaN   \n",
       "1755                     NaN               NaN               1.0   \n",
       "7989                     NaN               NaN               NaN   \n",
       "8126                     NaN               1.0               NaN   \n",
       "13398                    NaN               NaN               NaN   \n",
       "15587                    NaN               1.0               1.0   \n",
       "\n",
       "       YouTubeLevelUpTuts  YouTubeMIT  YouTubeMozillaHacks  YouTubeOther  \\\n",
       "1728                  NaN         NaN                  NaN           NaN   \n",
       "1755                  NaN         1.0                  NaN           NaN   \n",
       "7989                  NaN         NaN                  NaN           NaN   \n",
       "8126                  NaN         1.0                  NaN           NaN   \n",
       "13398                 NaN         NaN                  NaN           NaN   \n",
       "15587                 NaN         1.0                  NaN           NaN   \n",
       "\n",
       "      YouTubeSimplilearn  YouTubeTheNewBoston  MoneyPerMonth  \n",
       "1728                 NaN                  NaN        5000.00  \n",
       "1755                 NaN                  NaN        3333.33  \n",
       "7989                 NaN                  NaN        5000.00  \n",
       "8126                 NaN                  1.0        5000.00  \n",
       "13398                NaN                  NaN       10000.00  \n",
       "15587                NaN                  NaN        4166.67  \n",
       "\n",
       "[6 rows x 137 columns]"
      ]
     },
     "execution_count": 114,
     "metadata": {},
     "output_type": "execute_result"
    }
   ],
   "source": [
    "outliers_india = money_learning[(money_learning['CountryLive'] == 'India') & (money_learning['MoneyPerMonth']>=2500)]\n",
    "outliers_india"
   ]
  },
  {
   "cell_type": "markdown",
   "metadata": {},
   "source": [
    "None of the learners have attended a bootcamp and pay more than $2500 monthly. This is again an unusual amount comapred to the other learners/develoeprs from India. \n",
    "\n",
    "To continue our data analysis, we will consider these learners as outliers and filter them to get a more representative data. "
   ]
  },
  {
   "cell_type": "code",
   "execution_count": 115,
   "metadata": {
    "collapsed": false
   },
   "outputs": [],
   "source": [
    "# Dropping India outliers\n",
    "money_learning = money_learning.drop(outliers_india.index)"
   ]
  },
  {
   "cell_type": "markdown",
   "metadata": {},
   "source": [
    "We also see an outliers for Canada of values over $3000. We will analyze these learners to find their relevance."
   ]
  },
  {
   "cell_type": "code",
   "execution_count": 116,
   "metadata": {
    "collapsed": false
   },
   "outputs": [
    {
     "data": {
      "text/html": [
       "<div>\n",
       "<style scoped>\n",
       "    .dataframe tbody tr th:only-of-type {\n",
       "        vertical-align: middle;\n",
       "    }\n",
       "\n",
       "    .dataframe tbody tr th {\n",
       "        vertical-align: top;\n",
       "    }\n",
       "\n",
       "    .dataframe thead th {\n",
       "        text-align: right;\n",
       "    }\n",
       "</style>\n",
       "<table border=\"1\" class=\"dataframe\">\n",
       "  <thead>\n",
       "    <tr style=\"text-align: right;\">\n",
       "      <th></th>\n",
       "      <th>AttendedBootcamp</th>\n",
       "      <th>MonthsProgramming</th>\n",
       "      <th>MoneyPerMonth</th>\n",
       "      <th>Income</th>\n",
       "    </tr>\n",
       "  </thead>\n",
       "  <tbody>\n",
       "    <tr>\n",
       "      <th>13659</th>\n",
       "      <td>1.0</td>\n",
       "      <td>2.0</td>\n",
       "      <td>5000.0</td>\n",
       "      <td>140000.0</td>\n",
       "    </tr>\n",
       "  </tbody>\n",
       "</table>\n",
       "</div>"
      ],
      "text/plain": [
       "       AttendedBootcamp  MonthsProgramming  MoneyPerMonth    Income\n",
       "13659               1.0                2.0         5000.0  140000.0"
      ]
     },
     "execution_count": 116,
     "metadata": {},
     "output_type": "execute_result"
    }
   ],
   "source": [
    "outliers_canada = money_learning[(money_learning['CountryLive'] == 'Canada') & (money_learning['MoneyPerMonth']>=2500)]\n",
    "outliers_canada[['AttendedBootcamp','MonthsProgramming','MoneyPerMonth','Income']]"
   ]
  },
  {
   "cell_type": "markdown",
   "metadata": {},
   "source": [
    "This learner has attended a bootcamp and is a new learner. He must have paid a large sum of money in the beginning for the bootcamp and may not spend more money for a few more months to come. \n",
    "\n",
    "To continue our data analysis, we will consider this learner as an outlier and filter them to get a more representative data."
   ]
  },
  {
   "cell_type": "code",
   "execution_count": 117,
   "metadata": {
    "collapsed": true
   },
   "outputs": [],
   "source": [
    "# Dropping Canada outliers\n",
    "money_learning = money_learning.drop(outliers_canada.index)"
   ]
  },
  {
   "cell_type": "code",
   "execution_count": 118,
   "metadata": {
    "collapsed": false
   },
   "outputs": [
    {
     "name": "stdout",
     "output_type": "stream",
     "text": [
      "CountryLive\n",
      "Canada                       93.065397\n",
      "India                        65.758884\n",
      "United Kingdom               45.534337\n",
      "United States of America    142.654634\n",
      "Name: MoneyPerMonth, dtype: float64\n"
     ]
    },
    {
     "data": {
      "text/plain": [
       "<matplotlib.text.Text at 0x7f9605bf82b0>"
      ]
     },
     "execution_count": 118,
     "metadata": {},
     "output_type": "execute_result"
    },
    {
     "data": {
      "image/png": "[encoded data removed]",
      "text/plain": [
       "<matplotlib.figure.Figure at 0x7f9605ca63c8>"
      ]
     },
     "metadata": {},
     "output_type": "display_data"
    }
   ],
   "source": [
    "# Finding the mean amount spent monthly in different countries\n",
    "money_learning_final = money_learning.groupby('CountryLive').mean()['MoneyPerMonth']\n",
    "print(money_learning_final)\n",
    "\n",
    "money_learning_final.plot.bar(figsize = (9,7),\n",
    "                              rot=0, fontsize=11)\n",
    "plt.title('Money Spent Per Month Per Country', \n",
    "          fontsize = 15)\n",
    "plt.xlabel('Countries', fontsize = 15)\n",
    "plt.ylabel('Mean Amount', fontsize = 15)"
   ]
  },
  {
   "cell_type": "code",
   "execution_count": 119,
   "metadata": {
    "collapsed": false
   },
   "outputs": [
    {
     "name": "stderr",
     "output_type": "stream",
     "text": [
      "/dataquest/system/env/python3/lib/python3.4/site-packages/seaborn/categorical.py:454: FutureWarning: remove_na is deprecated and is a private function. Do not use.\n",
      "  box_data = remove_na(group_data)\n"
     ]
    },
    {
     "data": {
      "text/plain": [
       "([<matplotlib.axis.XTick at 0x7f9605c09908>,\n",
       "  <matplotlib.axis.XTick at 0x7f9605bd9080>,\n",
       "  <matplotlib.axis.XTick at 0x7f9605b2aa90>,\n",
       "  <matplotlib.axis.XTick at 0x7f9605b008d0>],\n",
       " <a list of 4 Text xticklabel objects>)"
      ]
     },
     "execution_count": 119,
     "metadata": {},
     "output_type": "execute_result"
    },
    {
     "data": {
      "image/png": "[encoded data removed]",
      "text/plain": [
       "<matplotlib.figure.Figure at 0x7f9605d8ae48>"
      ]
     },
     "metadata": {},
     "output_type": "display_data"
    }
   ],
   "source": [
    "# Plotting box plot to visualize distributions\n",
    "\n",
    "sns.boxplot(x = 'CountryLive', y = 'MoneyPerMonth', \n",
    "            data = money_learning)\n",
    "plt.title('Money Spent Per Month Per Country\\n(Distributions)',\n",
    "          fontsize = 15)\n",
    "plt.ylabel('Money per month (US dollars)')\n",
    "plt.xlabel('Country')\n",
    "plt.xticks(range(4), ['US','UK','India','Canada'])"
   ]
  },
  {
   "cell_type": "markdown",
   "metadata": {},
   "source": [
    "### Best Markets To Advertise In"
   ]
  },
  {
   "cell_type": "markdown",
   "metadata": {},
   "source": [
    "Among the two markets to choose, USA is definitely a clear choice. Advertising the product in a market where learners on average are paying \\$143 can attract more customers as the subscription is much lower($59).\n",
    "\n"
   ]
  },
  {
   "cell_type": "code",
   "execution_count": 120,
   "metadata": {
    "collapsed": false
   },
   "outputs": [
    {
     "data": {
      "text/plain": [
       "<matplotlib.text.Text at 0x7f9605a9fa90>"
      ]
     },
     "execution_count": 120,
     "metadata": {},
     "output_type": "execute_result"
    },
    {
     "data": {
      "image/png": "[encoded data removed]",
      "text/plain": [
       "<matplotlib.figure.Figure at 0x7f9605b829b0>"
      ]
     },
     "metadata": {},
     "output_type": "display_data"
    }
   ],
   "source": [
    "# Findinf the distribution of number of customers in different counrties\n",
    "money_learning_count = money_learning['CountryLive'].value_counts(normalize = True)*100\n",
    "\n",
    "money_learning_count.plot.pie(figsize = (8,8),autopct = '%1.0f%%',\n",
    "                              pctdistance=0.8,colormap = 'Accent',\n",
    "                              fontsize = 15, explode = (0.0, 0.3, 0.0, 0.3), startangle=270)\n",
    "plt.title('Distribution of Customers', fontsize = 15)\n",
    "plt.ylabel('')"
   ]
  },
  {
   "cell_type": "markdown",
   "metadata": {},
   "source": [
    "To chose the second market, Canada and India are to be considered. \n",
    "\n",
    "Considering the average amount spent monthly-\n",
    "- Canada seems to be a good market as the average monthly spending by the learners is higher in Canada when compared to India. \n",
    "\n",
    "Considering the number of learners/developers- \n",
    "- India has almost twice as more customers than we have in Canada. \n",
    "\n",
    "So, to choose between India and Canada, the choice is not very clear. Canada can be considered for marketting the product but the potential for growth can be higher in India as the number of learners are more.\n",
    "\n",
    "The advertising costs can be split between these two countries along with US being a firm market to advertise. \n",
    "\n",
    "Or, any of the two countries can be chosen based on other regional factors. Advertising efforts can be put in for a couple of quarters. The sales numbers for that country can be evaluated again to analyze the growth and further decisions can be taken accordingly.  "
   ]
  }
 ],
 "metadata": {
  "kernelspec": {
   "display_name": "Python 3",
   "language": "python",
   "name": "python3"
  },
  "language_info": {
   "codemirror_mode": {
    "name": "ipython",
    "version": 3
   },
   "file_extension": ".py",
   "mimetype": "text/x-python",
   "name": "python",
   "nbconvert_exporter": "python",
   "pygments_lexer": "ipython3",
   "version": "3.4.3"
  }
 },
 "nbformat": 4,
 "nbformat_minor": 2
}
