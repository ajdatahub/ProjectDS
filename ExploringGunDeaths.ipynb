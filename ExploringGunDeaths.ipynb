{
 "cells": [
  {
   "cell_type": "markdown",
   "metadata": {
    "collapsed": true
   },
   "source": [
    "# Gun deaths in the US from 2012 to 2014\n",
    "\n",
    "The dataset contains the information about the gun deaths in the United States from 2012 to 2014.\n",
    "\n",
    "Data can be found [here](https://github.com/fivethirtyeight/guns-data)\n",
    "\n",
    "Each row in the dataset represents a single fatality. The columns contain demographic and other information about the victim.\n",
    "\n",
    "* -- this is an identifier column, which contains the row number. It's common in CSV files to include a unique identifier for each row, but we can ignore it in this analysis.\n",
    "* year -- the year in which the fatality occurred.\n",
    "* month -- the month in which the fatality occurred.\n",
    "* intent -- the intent of the perpetrator of the crime.  This can be Suicide, Accidental, NA, Homicide, or Undetermined.\n",
    "* police -- whether a police officer was involved with the shooting. Either 0 (false) or 1 (true).\n",
    "* sex -- the gender of the victim. Either M or F.\n",
    "* age -- the age of the victim.\n",
    "* race -- the race of the victim. Either Asian/Pacific Islander, Native American/Native Alaskan, Black, Hispanic, or White.\n",
    "* hispanic -- a code indicating the Hispanic origin of the victim.\n",
    "* place -- where the shooting occurred. Has several categories, which you're encouraged to explore on your own.\n",
    "* education -- educational status of the victim. Can be one of the following:\n",
    "    - 1 -- Less than High School\n",
    "    - 2 -- Graduated from High School or equivalent\n",
    "    - 3 -- Some College\n",
    "    - 4 -- At least graduated from College\n",
    "    - 5 -- Not available\n",
    "    \n",
    "    \n"
   ]
  },
  {
   "cell_type": "code",
   "execution_count": 15,
   "metadata": {
    "collapsed": false
   },
   "outputs": [
    {
     "data": {
      "text/plain": [
       "[['',\n",
       "  'year',\n",
       "  'month',\n",
       "  'intent',\n",
       "  'police',\n",
       "  'sex',\n",
       "  'age',\n",
       "  'race',\n",
       "  'hispanic',\n",
       "  'place',\n",
       "  'education'],\n",
       " ['1',\n",
       "  '2012',\n",
       "  '01',\n",
       "  'Suicide',\n",
       "  '0',\n",
       "  'M',\n",
       "  '34',\n",
       "  'Asian/Pacific Islander',\n",
       "  '100',\n",
       "  'Home',\n",
       "  '4'],\n",
       " ['2', '2012', '01', 'Suicide', '0', 'F', '21', 'White', '100', 'Street', '3'],\n",
       " ['3',\n",
       "  '2012',\n",
       "  '01',\n",
       "  'Suicide',\n",
       "  '0',\n",
       "  'M',\n",
       "  '60',\n",
       "  'White',\n",
       "  '100',\n",
       "  'Other specified',\n",
       "  '4'],\n",
       " ['4', '2012', '02', 'Suicide', '0', 'M', '64', 'White', '100', 'Home', '4']]"
      ]
     },
     "execution_count": 15,
     "metadata": {},
     "output_type": "execute_result"
    }
   ],
   "source": [
    "import csv\n",
    "\n",
    "open_file = open('guns.csv','r')\n",
    "csv_reader = csv.reader(open_file)\n",
    "\n",
    "data = list(csv_reader)  # Converting the read data to list of lists.\n",
    "data[:5]"
   ]
  },
  {
   "cell_type": "markdown",
   "metadata": {},
   "source": [
    "### Removing Headers"
   ]
  },
  {
   "cell_type": "code",
   "execution_count": 16,
   "metadata": {
    "collapsed": false
   },
   "outputs": [
    {
     "data": {
      "text/plain": [
       "[['1',\n",
       "  '2012',\n",
       "  '01',\n",
       "  'Suicide',\n",
       "  '0',\n",
       "  'M',\n",
       "  '34',\n",
       "  'Asian/Pacific Islander',\n",
       "  '100',\n",
       "  'Home',\n",
       "  '4'],\n",
       " ['2', '2012', '01', 'Suicide', '0', 'F', '21', 'White', '100', 'Street', '3'],\n",
       " ['3',\n",
       "  '2012',\n",
       "  '01',\n",
       "  'Suicide',\n",
       "  '0',\n",
       "  'M',\n",
       "  '60',\n",
       "  'White',\n",
       "  '100',\n",
       "  'Other specified',\n",
       "  '4'],\n",
       " ['4', '2012', '02', 'Suicide', '0', 'M', '64', 'White', '100', 'Home', '4'],\n",
       " ['5',\n",
       "  '2012',\n",
       "  '02',\n",
       "  'Suicide',\n",
       "  '0',\n",
       "  'M',\n",
       "  '31',\n",
       "  'White',\n",
       "  '100',\n",
       "  'Other specified',\n",
       "  '2']]"
      ]
     },
     "execution_count": 16,
     "metadata": {},
     "output_type": "execute_result"
    }
   ],
   "source": [
    "headers = data[0]  # Assigning the headers\n",
    "data = data[1:]  # Removing the headers\n",
    "\n",
    "headers\n",
    "data[:5]"
   ]
  },
  {
   "cell_type": "markdown",
   "metadata": {},
   "source": [
    "### Counting Gun Deaths By Year"
   ]
  },
  {
   "cell_type": "code",
   "execution_count": 21,
   "metadata": {
    "collapsed": false
   },
   "outputs": [
    {
     "data": {
      "text/plain": [
       "{'2012': 33563, '2013': 33636, '2014': 33599}"
      ]
     },
     "execution_count": 21,
     "metadata": {},
     "output_type": "execute_result"
    }
   ],
   "source": [
    "# Extracting year inforamtion from the data\n",
    "year_counts = {}\n",
    "years = [each[1] for each in data]\n",
    "\n",
    "# Count of how many times each year occurs in the year column.\n",
    "for year in years:\n",
    "    if year in year_counts:\n",
    "        year_counts[year] = year_counts[year] + 1\n",
    "    else:\n",
    "        year_counts[year] = 1\n",
    "\n",
    "year_counts\n",
    "\n",
    "    "
   ]
  },
  {
   "cell_type": "markdown",
   "metadata": {},
   "source": [
    "### Counting Gun Deaths By Months & Year"
   ]
  },
  {
   "cell_type": "code",
   "execution_count": 43,
   "metadata": {
    "collapsed": false,
    "scrolled": false
   },
   "outputs": [
    {
     "name": "stdout",
     "output_type": "stream",
     "text": [
      "{datetime.datetime(2014, 10, 1, 0, 0): 2865, datetime.datetime(2014, 1, 1, 0, 0): 2651, datetime.datetime(2013, 10, 1, 0, 0): 2808, datetime.datetime(2014, 6, 1, 0, 0): 2931, datetime.datetime(2012, 10, 1, 0, 0): 2733, datetime.datetime(2014, 5, 1, 0, 0): 2864, datetime.datetime(2013, 4, 1, 0, 0): 2798, datetime.datetime(2014, 4, 1, 0, 0): 2862, datetime.datetime(2012, 4, 1, 0, 0): 2795, datetime.datetime(2013, 1, 1, 0, 0): 2864, datetime.datetime(2012, 9, 1, 0, 0): 2852, datetime.datetime(2013, 2, 1, 0, 0): 2375, datetime.datetime(2013, 3, 1, 0, 0): 2862, datetime.datetime(2012, 1, 1, 0, 0): 2758, datetime.datetime(2013, 9, 1, 0, 0): 2742, datetime.datetime(2014, 8, 1, 0, 0): 2970, datetime.datetime(2014, 9, 1, 0, 0): 2914, datetime.datetime(2012, 11, 1, 0, 0): 2729, datetime.datetime(2014, 2, 1, 0, 0): 2361, datetime.datetime(2012, 12, 1, 0, 0): 2791, datetime.datetime(2014, 7, 1, 0, 0): 2884, datetime.datetime(2013, 5, 1, 0, 0): 2806, datetime.datetime(2014, 3, 1, 0, 0): 2684, datetime.datetime(2013, 8, 1, 0, 0): 2859, datetime.datetime(2012, 7, 1, 0, 0): 3026, datetime.datetime(2013, 11, 1, 0, 0): 2758, datetime.datetime(2013, 6, 1, 0, 0): 2920, datetime.datetime(2012, 3, 1, 0, 0): 2743, datetime.datetime(2012, 2, 1, 0, 0): 2357, datetime.datetime(2013, 7, 1, 0, 0): 3079, datetime.datetime(2012, 8, 1, 0, 0): 2954, datetime.datetime(2014, 11, 1, 0, 0): 2756, datetime.datetime(2012, 5, 1, 0, 0): 2999, datetime.datetime(2013, 12, 1, 0, 0): 2765, datetime.datetime(2014, 12, 1, 0, 0): 2857, datetime.datetime(2012, 6, 1, 0, 0): 2826}\n"
     ]
    }
   ],
   "source": [
    "import datetime\n",
    "# Extracting month & year inforamtion from the data\n",
    "dates = [datetime.datetime(year = int(each[1]), month = int(each[2]), day = 1) for each in data]\n",
    "dates[:5]\n",
    "\n",
    "# Count of how many times each month & year occurs in the data.\n",
    "date_counts = {}\n",
    "for date in dates:\n",
    "    if  date in date_counts:\n",
    "        date_counts[date] = date_counts[date] +1\n",
    "    else:\n",
    "        date_counts[date] = 1\n",
    "date_counts"
   ]
  },
  {
   "cell_type": "markdown",
   "metadata": {},
   "source": [
    "## Counting Gun Deaths by Sex & Race"
   ]
  },
  {
   "cell_type": "code",
   "execution_count": 42,
   "metadata": {
    "collapsed": false
   },
   "outputs": [
    {
     "name": "stdout",
     "output_type": "stream",
     "text": [
      "{'Native American/Native Alaskan': 917, 'Black': 23296, 'White': 66237, 'Hispanic': 9022, 'Asian/Pacific Islander': 1326}\n",
      "{'F': 14449, 'M': 86349}\n"
     ]
    }
   ],
   "source": [
    "# Extracting sex inforamtion from the data\n",
    "sex_counts = {}\n",
    "sex_list = [each[5] for each in data]\n",
    "\n",
    "for sex in sex_list:\n",
    "    if sex in sex_counts:\n",
    "        sex_counts[sex] = sex_counts[sex] +1\n",
    "    else:\n",
    "        sex_counts[sex] = 1\n",
    "\n",
    "# Extracting race inforamtion from the data\n",
    "race_counts = {}\n",
    "race_list = [each[7] for each in data]\n",
    "\n",
    "for race in race_list:\n",
    "    if race in race_counts:\n",
    "        race_counts[race] = race_counts[race] + 1\n",
    "    else:\n",
    "        race_counts[race] = 1\n",
    "        \n",
    "print(race_counts)\n",
    "print(sex_counts)"
   ]
  },
  {
   "cell_type": "markdown",
   "metadata": {},
   "source": [
    "## Analysis So Far..\n",
    "\n",
    "* Gun deaths per year didn't vary much from the year 2012 - 2014. \n",
    "* The gun deaths every year lie in the range of 33.5K - 33.7K.\n",
    "* Minimum number of deaths having a count of 2357 were seen in the month of February, 2012. \n",
    "* Maximum number of deaths with a count of 3079 were seen in the month of July, 2013. \n",
    "* The gun deaths vary by a huge margin between Females and Males. The ratio of gun deaths between Females and Males is almost 1:6.\n",
    "* Least number of gun deaths were seen for the  Native American/Native Alaskan race with a total of 917 deaths. \n",
    "* Highest number of gun deaths were seen for the White populaiton with a total count of 66237 deaths. \n",
    "\n",
    "Various further studies and analysis can be perfomed based on the observation so far to find out patterns and intents behind the gun deaths."
   ]
  },
  {
   "cell_type": "markdown",
   "metadata": {},
   "source": [
    "## Reading Census Data"
   ]
  },
  {
   "cell_type": "code",
   "execution_count": 44,
   "metadata": {
    "collapsed": false
   },
   "outputs": [
    {
     "data": {
      "text/plain": [
       "[['Id',\n",
       "  'Year',\n",
       "  'Id',\n",
       "  'Sex',\n",
       "  'Id',\n",
       "  'Hispanic Origin',\n",
       "  'Id',\n",
       "  'Id2',\n",
       "  'Geography',\n",
       "  'Total',\n",
       "  'Race Alone - White',\n",
       "  'Race Alone - Hispanic',\n",
       "  'Race Alone - Black or African American',\n",
       "  'Race Alone - American Indian and Alaska Native',\n",
       "  'Race Alone - Asian',\n",
       "  'Race Alone - Native Hawaiian and Other Pacific Islander',\n",
       "  'Two or More Races'],\n",
       " ['cen42010',\n",
       "  'April 1, 2010 Census',\n",
       "  'totsex',\n",
       "  'Both Sexes',\n",
       "  'tothisp',\n",
       "  'Total',\n",
       "  '0100000US',\n",
       "  '',\n",
       "  'United States',\n",
       "  '308745538',\n",
       "  '197318956',\n",
       "  '44618105',\n",
       "  '40250635',\n",
       "  '3739506',\n",
       "  '15159516',\n",
       "  '674625',\n",
       "  '6984195']]"
      ]
     },
     "execution_count": 44,
     "metadata": {},
     "output_type": "execute_result"
    }
   ],
   "source": [
    "with open('census.csv','r') as file_read:\n",
    "    csv_reader = csv.reader(file_read)\n",
    "    census = list(csv_reader)\n",
    "census"
   ]
  },
  {
   "cell_type": "markdown",
   "metadata": {},
   "source": [
    "## Mapping Between guns.csv and census.csv Header Columns"
   ]
  },
  {
   "cell_type": "code",
   "execution_count": 48,
   "metadata": {
    "collapsed": false
   },
   "outputs": [
    {
     "name": "stdout",
     "output_type": "stream",
     "text": [
      "{'Native American/Native Alaskan': 24.521955573811088, 'Black': 57.8773477735196, 'White': 33.56849303419181, 'Hispanic': 20.220491210910907, 'Asian/Pacific Islander': 8.374309664161762}\n"
     ]
    }
   ],
   "source": [
    "# Creating the mapping dict.\n",
    "mapping = {\n",
    "    \"Asian/Pacific Islander\": 15159516 + 674625,\n",
    "    \"Native American/Native Alaskan\": 3739506,\n",
    "    \"Black\": 40250635,\n",
    "    \"Hispanic\": 44618105,\n",
    "    \"White\": 197318956\n",
    "}\n",
    "race_per_hundredk = {}\n",
    "\n",
    "for each in race_counts:\n",
    "    race_per_hundredk[each] = (race_counts[each]/mapping[each]) * 100000\n",
    "    \n",
    "print(race_per_hundredk) \n",
    "    "
   ]
  },
  {
   "cell_type": "markdown",
   "metadata": {},
   "source": [
    "## Counting THe Gun Deaths With the Intent of 'Homicide'"
   ]
  },
  {
   "cell_type": "code",
   "execution_count": 59,
   "metadata": {
    "collapsed": false
   },
   "outputs": [
    {
     "data": {
      "text/plain": [
       "{'Asian/Pacific Islander': 3.530346230970155,\n",
       " 'Black': 48.471284987180944,\n",
       " 'Hispanic': 12.627161104219914,\n",
       " 'Native American/Native Alaskan': 8.717729026240365,\n",
       " 'White': 4.6356417981453335}"
      ]
     },
     "execution_count": 59,
     "metadata": {},
     "output_type": "execute_result"
    }
   ],
   "source": [
    "# Extracting intent information\n",
    "intents = [each[3] for each in data]\n",
    "\n",
    "# Extracting race information\n",
    "races = [each[7] for each in data]\n",
    "\n",
    "# Extracting gun deaths with Homicide intent for each race. \n",
    "homicide_race_counts = {}\n",
    "for i,race in enumerate(races):\n",
    "    if intents[i] == 'Homicide':\n",
    "        if race not in homicide_race_counts:\n",
    "            homicide_race_counts[race] = 1\n",
    "        else:\n",
    "            homicide_race_counts[race] = homicide_race_counts[race] + 1 \n",
    "        \n",
    "# Calculating Homicide counts per race per 100K \n",
    "race_per_hunderdk = {}\n",
    "for each in homicide_race_counts:\n",
    "    race_per_hunderdk[each] = (homicide_race_counts[each]/mapping[each]) * 100000\n",
    "    \n",
    "race_per_hunderdk"
   ]
  },
  {
   "cell_type": "markdown",
   "metadata": {},
   "source": [
    "## Findings Per Race"
   ]
  },
  {
   "cell_type": "markdown",
   "metadata": {},
   "source": [
    "For every 100K people, \n",
    "* Highest number of gun realted homicides are among the Black population.\n",
    "* Highest number of gun related homicides are among the Asian/Pacific Islander population.\n",
    "* The proportion of gun realted homicides are high in *Black* and *Hispanic* racial categories"
   ]
  },
  {
   "cell_type": "markdown",
   "metadata": {},
   "source": [
    "##### Further Analysis can be done based on the findings so far.\n",
    "\n",
    "- Which time of the year did we see more number of homicides.\n",
    "- Gun related Homicide analysis based on geographic locaitons.\n",
    "- Gun related Homicide analysis basd on gender in each race.\n",
    "- Was a police officer involved in the shooting.\n",
    "- How does the education levels vary among different age, sex, racial categories\n"
   ]
  },
  {
   "cell_type": "code",
   "execution_count": null,
   "metadata": {
    "collapsed": true
   },
   "outputs": [],
   "source": []
  }
 ],
 "metadata": {
  "kernelspec": {
   "display_name": "Python 3",
   "language": "python",
   "name": "python3"
  },
  "language_info": {
   "codemirror_mode": {
    "name": "ipython",
    "version": 3
   },
   "file_extension": ".py",
   "mimetype": "text/x-python",
   "name": "python",
   "nbconvert_exporter": "python",
   "pygments_lexer": "ipython3",
   "version": "3.4.3"
  }
 },
 "nbformat": 4,
 "nbformat_minor": 0
}
